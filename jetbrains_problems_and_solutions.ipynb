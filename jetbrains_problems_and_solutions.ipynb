{
  "nbformat": 4,
  "nbformat_minor": 0,
  "metadata": {
    "colab": {
      "name": "jetbrains_problems_and_solutions.ipynb",
      "provenance": [],
      "collapsed_sections": [],
      "include_colab_link": true
    },
    "kernelspec": {
      "display_name": "Python 3",
      "name": "python3"
    },
    "language_info": {
      "name": "python"
    }
  },
  "cells": [
    {
      "cell_type": "markdown",
      "metadata": {
        "id": "view-in-github",
        "colab_type": "text"
      },
      "source": [
        "<a href=\"https://colab.research.google.com/github/kentstan/kentstan/blob/main/jetbrains_problems_and_solutions.ipynb\" target=\"_parent\"><img src=\"https://colab.research.google.com/assets/colab-badge.svg\" alt=\"Open In Colab\"/></a>"
      ]
    },
    {
      "cell_type": "code",
      "metadata": {
        "colab": {
          "base_uri": "https://localhost:8080/"
        },
        "id": "hp7ngPdKCBaI",
        "outputId": "a7250841-b618-46fe-e256-db7afb49b34a"
      },
      "source": [
        "sentence = input().split()\n",
        "x = len(sentence)\n",
        "c = sentence[x-1]   # berem poslednee slovo\n",
        "a = list(c)         # delim po bukvam\n",
        "sa = len(a)         # schitaem dlinnu poslednego slova\n",
        "\n",
        "\n",
        "print(a[sa-1])\n"
      ],
      "execution_count": null,
      "outputs": [
        {
          "name": "stdout",
          "output_type": "stream",
          "text": [
            "What a lovely day!\n",
            "!\n"
          ]
        }
      ]
    },
    {
      "cell_type": "code",
      "metadata": {
        "colab": {
          "base_uri": "https://localhost:8080/"
        },
        "id": "kUe7afJR9hlb",
        "outputId": "9ace27f1-f24f-4eb3-d31b-92b42616c772"
      },
      "source": [
        "sentence = str(input())\n",
        "print(sentence[-1])"
      ],
      "execution_count": null,
      "outputs": [
        {
          "name": "stdout",
          "output_type": "stream",
          "text": [
            "What a lovely day!\n",
            "!\n"
          ]
        }
      ]
    },
    {
      "cell_type": "code",
      "metadata": {
        "id": "z_8Rlx0S_R_z"
      },
      "source": [
        "# Save the input in this variable\n",
        "ticket = input()\n",
        "\n",
        "# Add up the digits for each half\n",
        "half1 = int(ticket[0] + ticket[1] + ticket[2])\n",
        "half2 = int(ticket[3] + ticket[4] + ticket[5])\n",
        "\n",
        "# Thanks to you, this code will work\n",
        "if half1 == half2:\n",
        "    print(\"Lucky\")\n",
        "else:\n",
        "    print(\"Ordinary\")"
      ],
      "execution_count": null,
      "outputs": []
    },
    {
      "cell_type": "code",
      "metadata": {
        "id": "hWvCWUYA_WUQ"
      },
      "source": [
        "print(int(input())*input())"
      ],
      "execution_count": null,
      "outputs": []
    },
    {
      "cell_type": "code",
      "metadata": {
        "colab": {
          "base_uri": "https://localhost:8080/"
        },
        "id": "EBJDdYrPhIUC",
        "outputId": "0e2a328d-df5c-4099-981b-23cddac5f120"
      },
      "source": [
        "name = input()\n",
        "print(\"Hello, \" + name)"
      ],
      "execution_count": null,
      "outputs": [
        {
          "name": "stdout",
          "output_type": "stream",
          "text": [
            "Sauron\n",
            "Hello, Sauron\n"
          ]
        }
      ]
    },
    {
      "cell_type": "code",
      "metadata": {
        "id": "q5jOWAXZKVXU"
      },
      "source": [
        "n_squirelles = int(input())\n",
        "k_nuts = int(input())\n",
        "print(k_nuts // n_squirelles)\n"
      ],
      "execution_count": null,
      "outputs": []
    },
    {
      "cell_type": "code",
      "metadata": {
        "id": "mGQ3j8I3plfO"
      },
      "source": [
        "hours_1 = int(input()) * 3600\n",
        "minutes_1 = int(input()) * 60\n",
        "seconds_1 = int(input())\n",
        "event_1 = hours_1 + minutes_1 + seconds_1\n",
        "\n",
        "hours_2 = int(input()) * 3600\n",
        "minutes_2 = int(input()) * 60\n",
        "seconds_2 = int(input())\n",
        "event_2 = hours_2 + minutes_2 + seconds_2\n",
        "\n",
        "print(abs(event_1 - event_2))"
      ],
      "execution_count": null,
      "outputs": []
    },
    {
      "cell_type": "code",
      "metadata": {
        "id": "6RVgP30kv2BM"
      },
      "source": [
        "class_1 = int(input())\n",
        "class_desk_1 = (class_1 // 2) + (class_1 % 2)\n",
        "print(class_desk_1)"
      ],
      "execution_count": null,
      "outputs": []
    },
    {
      "cell_type": "code",
      "metadata": {
        "id": "yWHT6a2zBJws"
      },
      "source": [
        "a = 5\n",
        "b = -10\n",
        "c = 15\n",
        "\n",
        "calculated_result = a != b - c\n",
        "\n",
        "print(calculated_result)"
      ],
      "execution_count": null,
      "outputs": []
    },
    {
      "cell_type": "code",
      "metadata": {
        "id": "lkxek5BQNHET"
      },
      "source": [
        "a = int(input())\n",
        "b = int(input())\n",
        "print((a // b) % 2 != 0)"
      ],
      "execution_count": null,
      "outputs": []
    },
    {
      "cell_type": "code",
      "metadata": {
        "id": "E3Jky3ycNqc0"
      },
      "source": [
        "# read the value from the input\n",
        "\n",
        "coin = bool(int(input()))  # don't modify this line, please\n",
        "if coin > 0:\n",
        "    print(\"Welcome to Charon's boat!\")\n",
        "print(\"There is no turning back.\")"
      ],
      "execution_count": null,
      "outputs": []
    },
    {
      "cell_type": "code",
      "metadata": {
        "id": "G7DRX6wuLKMa"
      },
      "source": [
        "number = int(input())\n",
        "word = input()\n",
        "\n",
        "if number > 1 or number == 0:\n",
        "  print(number, word+\"s\")\n",
        "if number == 1:\n",
        "  print(number, word)\n",
        "\n",
        "# write a condition for plurals\n"
      ],
      "execution_count": null,
      "outputs": []
    },
    {
      "cell_type": "code",
      "metadata": {
        "id": "ufbgftgRrOn9"
      },
      "source": [
        "n = int(input())\n",
        "x = 0\n",
        "c = 0\n",
        "\n",
        "while n <= 700000:\n",
        "  x = n * 0.071\n",
        "  n += x\n",
        "  c += 1\n",
        "    \n",
        "print(c)"
      ],
      "execution_count": null,
      "outputs": []
    },
    {
      "cell_type": "code",
      "metadata": {
        "id": "Wkhsp8U1yQ1B"
      },
      "source": [
        "i = 0 \n",
        "sum_ = 0\n",
        "n = int(input())\n",
        "\n",
        "while i <= n:\n",
        "   sum_ = sum_ + i\n",
        "   i += 1\n",
        "\n",
        "print(sum_)\n",
        "\n"
      ],
      "execution_count": null,
      "outputs": []
    },
    {
      "cell_type": "code",
      "metadata": {
        "id": "rmb0KYN0sM3G"
      },
      "source": [
        "in_input = int(input())\n",
        "fin_input = int(input())\n",
        "half_life_per = 0\n",
        "\n",
        "while in_input > fin_input:\n",
        "  in_input = in_input // 2 \n",
        "  half_life_per += 1\n",
        "  \n",
        "\n",
        "print(half_life_per * 12)\n"
      ],
      "execution_count": null,
      "outputs": []
    },
    {
      "cell_type": "code",
      "metadata": {
        "colab": {
          "base_uri": "https://localhost:8080/"
        },
        "id": "RIDxditOFdn1",
        "outputId": "53070bb7-fee7-4a88-ff5b-2e06490b59d9"
      },
      "source": [
        "camel = r\"\"\"\n",
        "Switching on the camera in the camel habitat...\n",
        " ___.-''''-.\n",
        "/___  @    |\n",
        "',,,,.     |         _.'''''''._\n",
        "     '     |        /           \\\n",
        "     |     \\    _.-'             \\\n",
        "     |      '.-'                  '-.\n",
        "     |                               ',\n",
        "     |                                '',\n",
        "      ',,-,                           ':;\n",
        "           ',,| ;,,                 ,' ;;\n",
        "              ! ; !'',,,',',,,,'!  ;   ;:\n",
        "             : ;  ! !       ! ! ;  ;   :;\n",
        "             ; ;   ! !      ! !  ; ;   ;,\n",
        "            ; ;    ! !     ! !   ; ;\n",
        "            ; ;    ! !    ! !     ; ;\n",
        "           ;,,      !,!   !,!     ;,;\n",
        "           /_I      L_I   L_I     /_I\n",
        "Look at that! Our little camel is sunbathing!\"\"\"\n",
        "\n",
        "lion = r\"\"\"\n",
        "Switching on the camera in the lion habitat...\n",
        "                                               ,w.\n",
        "                                             ,YWMMw  ,M  ,\n",
        "                        _.---.._   __..---._.'MMMMMw,wMWmW,\n",
        "                   _.-\"\"        '''           YP\"WMMMMMMMMMb,\n",
        "                .-' __.'                   .'     MMMMW^WMMMM;\n",
        "    _,        .'.-'\"; `,       /`     .--\"\"      :MMM[==MWMW^;\n",
        " ,mM^\"     ,-'.'   /   ;      ;      /   ,       MMMMb_wMW\"  @\\\n",
        ",MM:.    .'.-'   .'     ;     `\\    ;     `,     MMMMMMMW `\"=./`-,\n",
        "WMMm__,-'.'     /      _.\\      F'''-+,,   ;_,_.dMMMMMMMM[,_ / `=_}\n",
        "\"^MP__.-'    ,-' _.--\"\"   `-,   ;       \\  ; ;MMMMMMMMMMW^``; __|\n",
        "           /   .'            ; ;         )  )`{  \\ `\"^W^`,   \\  :\n",
        "          /  .'             /  (       .'  /     Ww._     `.  `\"\n",
        "         /  Y,              `,  `-,=,_{   ;      MMMP`\"\"-,  `-._.-,\n",
        "        (--, )                `,_ / `) \\/\"\")      ^\"      `-, -;\"\\:\n",
        "The lion is roaring!\"\"\"\n",
        "\n",
        "deer = r\"\"\"\n",
        "Switching on the camera in the deer habitat...\n",
        "   /|       |\\\n",
        "`__\\\\       //__'\n",
        "   ||      ||\n",
        " \\__`\\     |'__/\n",
        "   `_\\\\   //_'\n",
        "   _.,:---;,._\n",
        "   \\_:     :_/\n",
        "     |@. .@|\n",
        "     |     |\n",
        "     ,\\.-./ \\\n",
        "     ;;`-'   `---__________-----.-.\n",
        "     ;;;                         \\_\\\n",
        "     ';;;                         |\n",
        "      ;    |                      ;\n",
        "       \\   \\     \\        |      /\n",
        "        \\_, \\    /        \\     |\\\n",
        "          |';|  |,,,,,,,,/ \\    \\ \\_\n",
        "          |  |  |           \\   /   |\n",
        "          \\  \\  |           |  / \\  |\n",
        "           | || |           | |   | |\n",
        "           | || |           | |   | |\n",
        "           | || |           | |   | |\n",
        "           |_||_|           |_|   |_|\n",
        "          /_//_/           /_/   /_/\n",
        "Our 'Bambi' looks hungry. Let's go to feed it!\"\"\"\n",
        "\n",
        "goose = r\"\"\"\n",
        "Switching on the camera in the goose habitat...\n",
        "\n",
        "                                    _\n",
        "                                ,-\"\" \"\".\n",
        "                              ,'  ____  `.\n",
        "                            ,'  ,'    `.  `._\n",
        "   (`.         _..--.._   ,'  ,'        \\    \\\n",
        "  (`-.\\    .-\"\"        \"\"'   /          (  d _b\n",
        " (`._  `-\"\" ,._             (            `-(   \\\n",
        " <_  `     (  <`<            \\              `-._\\\n",
        "  <`-       (__< <           :\n",
        "   (__        (_<_<          ;\n",
        "    `------------------------------------------\n",
        "The goose is staring intently at you... Maybe it's time to change the channel?\"\"\"\n",
        "\n",
        "bat = r\"\"\"\n",
        "Switching on the camera in the bat habitat...\n",
        "_________________               _________________\n",
        " ~-.              \\  |\\___/|  /              .-~\n",
        "     ~-.           \\ / o o \\ /           .-~\n",
        "        >           \\\\  W  //           <\n",
        "       /             /~---~\\             \\\n",
        "      /_            |       |            _\\\n",
        "         ~-.        |       |        .-~\n",
        "            ;        \\     /        i\n",
        "           /___      /\\   /\\      ___\\\n",
        "                ~-. /  \\_/  \\ .-~\n",
        "                   V         V\n",
        "This bat looks like it's doing fine.\"\"\"\n",
        "\n",
        "rabbit = r\"\"\"\n",
        "Switching on the camera in the rabbit habitat...\n",
        "         ,\n",
        "        /|      __\n",
        "       / |   ,-~ /\n",
        "      Y :|  //  /\n",
        "      | jj /( .^\n",
        "      >-\"~\"-v\"\n",
        "     /       Y\n",
        "    jo  o    |\n",
        "   ( ~T~     j\n",
        "    >._-' _./\n",
        "   /   \"~\"  |\n",
        "  Y     _,  |\n",
        " /| ;-\"~ _  l\n",
        "/ l/ ,-\"~    \\\n",
        "\\//\\/      .- \\\n",
        " Y        /    Y\n",
        " l       I     !\n",
        " ]\\      _\\    /\"\\\n",
        "(\" ~----( ~   Y.  )\n",
        "It looks like we will soon have more rabbits!\"\"\"\n",
        "\n",
        "animals = [camel, lion, deer, goose, bat, rabbit]\n",
        "\n",
        "while True:\n",
        "  number = input('please enter the number of the habitat to you would like to view:')\n",
        "  if number == 'exit':\n",
        "    print(\"See you later!\")\n",
        "    break\n",
        "  print(animals[int(number)])\n",
        " \n",
        "\n",
        "# write your code here\n"
      ],
      "execution_count": null,
      "outputs": [
        {
          "name": "stdout",
          "output_type": "stream",
          "text": [
            "please enter the number of the habitat to you would like to view:exit\n",
            "See you later!\n"
          ]
        }
      ]
    },
    {
      "cell_type": "code",
      "metadata": {
        "id": "tWb_P8pFbS4K"
      },
      "source": [
        "print('Hello! My name is Aid.')\n",
        "print('I was created in 2020.')\n",
        "print('Please, remind me your name.')\n",
        "\n",
        "name = input()\n",
        "\n",
        "print('What a great name you have, ' + name + '!')\n",
        "print('Let me guess your age.')\n",
        "print('Enter remainders of dividing your age by 3, 5 and 7.')\n",
        "\n",
        "\n",
        "\n",
        "remainder3 = int(input())\n",
        "remainder5 = int(input())\n",
        "remainder7 = int(input())\n",
        "\n",
        "\n",
        "age = (remainder3 * 70 + remainder5 * 21 + remainder7 * 15) % 105\n",
        "\n",
        "# reading all remainders\n",
        "\n",
        "print(\"Your age is \" + str(age) + \"; that's a good time to start programming!\")\n",
        "print('Now I will prove to you that I can count to any number you want.')\n",
        "\n",
        "counter = int(input())\n",
        "i = 0\n",
        "while i <= counter:\n",
        "  print(str(i) +\"!\")\n",
        "  i += 1\n",
        "# read a number and count to it here\n",
        "\n",
        "print(\"\"\"Let's test your programming knowledge.\n",
        "Why do we use methods?\n",
        "1. To repeat a statement multiple times.\n",
        "2. To decompose a program into several small subroutines.\n",
        "3. To determine the execution time of a program.\n",
        "4. To interrupt the execution of a program.\"\"\")\n",
        "\n",
        "test = ['Please, try again.','1. To repeat a statement multiple times.' , '2. To decompose a program into several small subroutines.', '3. To determine the execution time of a program.' ,'4. To interrupt the execution of a program.']\n",
        "\n",
        "while True:\n",
        "  number = input()\n",
        "  if number == '2':\n",
        "    print('Completed, have a nice day!')\n",
        "    break\n",
        "  print(\"Please, try again.\")\n",
        "\n",
        "\n",
        "print('Congratulations, have a nice day!')"
      ],
      "execution_count": null,
      "outputs": []
    },
    {
      "cell_type": "code",
      "metadata": {
        "id": "yBVbQqeGAlOd"
      },
      "source": [
        "def square_ (danny):\n",
        "  print(danny * danny)\n",
        "\n",
        "\n",
        "\n",
        "while True:\n",
        "  n = input()\n",
        "  if str(n) == 'exit':\n",
        "    print(\"See you ! \")\n",
        "    break\n",
        "  \n",
        "  square_(int(n))\n"
      ],
      "execution_count": null,
      "outputs": []
    },
    {
      "cell_type": "code",
      "metadata": {
        "id": "Hf_zuk1LmqKu"
      },
      "source": [
        "def fahrenheit_to_celsius(x):\n",
        "  x = float(451)\n",
        "  print(round(((x - 32) * (5/9)),3))\n",
        "\n"
      ],
      "execution_count": null,
      "outputs": []
    },
    {
      "cell_type": "code",
      "metadata": {
        "id": "guEkYdgAu2ic"
      },
      "source": [
        "n = int(input())\n",
        "x = n\n",
        "if x < 100:\n",
        "    print('x < 100')\n",
        "else:\n",
        "    if x == 100:\n",
        "        print('x = 100')\n",
        "    if x == 121:\n",
        "      print(\"You need to go to Vegas\")\n",
        "    else:\n",
        "        print('x > 100')\n",
        "    print('This will be printed only because x >= 100')"
      ],
      "execution_count": null,
      "outputs": []
    },
    {
      "cell_type": "code",
      "metadata": {
        "id": "J55kaamJ4n7e"
      },
      "source": [
        "year = int(input())\n",
        "\n",
        "if (year % 4 == 0 and year % 100 != 0) or year % 400 == 0:\n",
        "    print(\"Leap\")\n",
        "else:\n",
        "    print(\"Ordinary\") \n",
        "\n",
        "\n",
        "\n"
      ],
      "execution_count": null,
      "outputs": []
    },
    {
      "cell_type": "code",
      "metadata": {
        "id": "KJNXT2Gd6O8p"
      },
      "source": [
        "def greet(bot_name, birth_year):\n",
        "    print('Hello! My name is ' + bot_name + '.')\n",
        "    print('I was created in ' + birth_year + '.')\n",
        "\n",
        "\n",
        "def remind_name():\n",
        "    print('Please, remind me your name.')\n",
        "    name = input()\n",
        "    print('What a great name you have, ' + name + '!')\n",
        "\n",
        "\n",
        "def guess_age():\n",
        "    print('Let me guess your age.')\n",
        "    print('Enter remainders of dividing your age by 3, 5 and 7.')\n",
        "\n",
        "    rem3 = int(input())\n",
        "    rem5 = int(input())\n",
        "    rem7 = int(input())\n",
        "    age = (rem3 * 70 + rem5 * 21 + rem7 * 15) % 105\n",
        "\n",
        "    print(\"Your age is \" + str(age) + \"; that's a good time to start programming!\")\n",
        "\n",
        "\n",
        "def count():\n",
        "    print('Now I will prove to you that I can count to any number you want.')\n",
        "\n",
        "    num = int(input())\n",
        "    curr = 0\n",
        "    while curr <= num:\n",
        "        print(curr, '!')\n",
        "        curr = curr + 1\n",
        "\n",
        "\n",
        "def test():\n",
        "    print(\"\"\"Let's test your programming knowledge.\n",
        "    Why do we use methods?\n",
        "    1. To repeat a statement multiple times.\n",
        "    2. To decompose a program into several small subroutines.\n",
        "    3. To determine the execution time of a program.\n",
        "    4. To interrupt the execution of a program.\"\"\")\n",
        "\n",
        "    test = ['Please, try again.','1. To repeat a statement multiple times.' , '2. To decompose a program into several small subroutines.', '3. To determine the execution time of a program.' ,'4. To interrupt the execution of a program.']\n",
        "\n",
        "    while True:\n",
        "      number = input()\n",
        "      if number == '2':\n",
        "        print('Completed, have a nice day!')\n",
        "        break\n",
        "      print(\"Please, try again.\")\n",
        "\n",
        "\n",
        "def end():\n",
        "    print('Congratulations, have a nice day!')\n",
        "\n",
        "\n",
        "greet('Jack Sparrow', '2001')  # change it as you need\n",
        "remind_name()\n",
        "guess_age()\n",
        "count()\n",
        "test()\n",
        "end()"
      ],
      "execution_count": null,
      "outputs": []
    },
    {
      "cell_type": "code",
      "metadata": {
        "colab": {
          "base_uri": "https://localhost:8080/"
        },
        "id": "HKmXhE8X73OQ",
        "outputId": "ec19a4cb-2c9d-46e5-cdab-b236ede65b89"
      },
      "source": [
        "def start ():\n",
        "  print(\"\"\"H A N G M A N\n",
        "The game will be available soon.\"\"\")\n",
        "  \n",
        "start()\n",
        "\n"
      ],
      "execution_count": null,
      "outputs": [
        {
          "name": "stdout",
          "output_type": "stream",
          "text": [
            "H A N G M A N\n",
            "The game will be available soon.\n"
          ]
        }
      ]
    },
    {
      "cell_type": "code",
      "metadata": {
        "id": "Zn9SGQYa04M2"
      },
      "source": [
        "def find_light(light):\n",
        "  # there can be any other color\n",
        "    if light == \"green\":\n",
        "        print(\"You can go!\")\n",
        "    elif light == \"yellow\":\n",
        "        print(\"Get ready!\")\n",
        "    elif light == \"red\":\n",
        "        print(\"Just wait.\")\n",
        "    else:\n",
        "        print(\"No such traffic light color, do whatever you want\")\n",
        "\n",
        "\n",
        "\n",
        "def traffic_lightss(light):\n",
        "    traffic_lights = \"green, yellow, red\"\n",
        "    # a string with one color\n",
        "   # variable for color name\n",
        "    if light in traffic_lights:\n",
        "        if light == \"green\":\n",
        "            print(\"You can go!\")\n",
        "        elif light == \"yellow\":\n",
        "            print(\"Get ready!\")\n",
        "        else:\n",
        "            # if the lights are red\n",
        "            print(\"Just wait.\")\n",
        "    else:\n",
        "        print(\"No such traffic light color, do whatever you want\")\n",
        "\n",
        "\n",
        "find_light(input())\n",
        "traffic_lightss('green')"
      ],
      "execution_count": null,
      "outputs": []
    },
    {
      "cell_type": "code",
      "metadata": {
        "id": "JEt5HMllJ2nr"
      },
      "source": [
        "def class_system(number):\n",
        "  if number < 2:\n",
        "    print(\"Analytic\")\n",
        "  elif 2 <= number <= 3:\n",
        "    print(\"Synthetic\")\n",
        "  elif number > 3:\n",
        "    print(\"Polysynthetic\")\n",
        "\n",
        "number = float(input())\n",
        "class_system(number)"
      ],
      "execution_count": null,
      "outputs": []
    },
    {
      "cell_type": "code",
      "metadata": {
        "id": "FcT0i8eyOGKl"
      },
      "source": [
        "#+, -, /, *, mod, pow, div\n",
        "# Note that if the second number is 0 and you want to perform any of the operations /, mod, or div, the calculator should say \"Division by 0!\"\n",
        "\n",
        "\"\"\"mod — modulo operation, i.e. the remainder of the division first_number % second_number,\n",
        "pow — exponentiation, the first number will be the base and the second — the power: first_number ** second_number,\n",
        "div — integer division first_number // second_number.\"\"\"\n",
        "\n",
        "def calc(a,b,c):\n",
        "  if c == \"+\":\n",
        "    return a + b\n",
        "  \n",
        "  elif c == \"-\":\n",
        "    return a - b\n",
        "  \n",
        "  elif c == \"*\":\n",
        "    return a * b\n",
        "\n",
        "  elif c == \"pow\":\n",
        "    return a ** b\n",
        "\n",
        "  elif b == 0.0 and c in [\"mod\", \"div\", \"/\"]:\n",
        "    return \"Division by 0!\"\n",
        "\n",
        "  elif c == \"mod\" and b != 0.0:\n",
        "    return a % b\n",
        "  \n",
        "  elif c == \"/\" and b != 0.0:\n",
        "    return a / b\n",
        "\n",
        "  elif c == \"div\" and b != 0.0:\n",
        "    return a // b\n",
        "\n",
        "\n",
        "\n",
        "\n",
        "a = float(input())\n",
        "b = float(input())\n",
        "c = input()\n",
        "\n",
        "print(calc(a,b,c))\n",
        "\n"
      ],
      "execution_count": null,
      "outputs": []
    },
    {
      "cell_type": "code",
      "metadata": {
        "id": "anZNW1JxCXtK"
      },
      "source": [
        "a = float(input())\n",
        "b = float(input())\n",
        "c = input()\n",
        "\n",
        "if c == \"+\":\n",
        "  print(a + b)\n",
        "  \n",
        "elif c == \"-\":\n",
        "  print(a - b)\n",
        "  \n",
        "elif c == \"*\":\n",
        "  print(a * b)\n",
        "\n",
        "elif c == \"pow\":\n",
        "  print(a ** b)\n",
        "\n",
        "elif b == 0.0 and c in [\"mod\", \"div\", \"/\"]:\n",
        "  print(\"Division by 0!\")\n",
        "\n",
        "elif c == \"mod\" and b != 0.0:\n",
        "  print(a % b)\n",
        "  \n",
        "elif c == \"/\" and b != 0.0:\n",
        "  print(a / b)\n",
        "\n",
        "elif c == \"//\" and b != 0.0:\n",
        "  print(a // b)\n"
      ],
      "execution_count": null,
      "outputs": []
    },
    {
      "cell_type": "code",
      "metadata": {
        "id": "250Tmp7fF1-L"
      },
      "source": [
        "\"\"\"\n",
        "Chicken = 23\n",
        "\n",
        "Goat = 678\n",
        "\n",
        "Pig: 1296\n",
        "\n",
        "Cow: 3848\n",
        "\n",
        "Sheep: 6769\"\"\"\n",
        "\n",
        "coin = int(input())\n",
        "\n",
        "if coin < 23:\n",
        "  print(None)\n",
        "\n",
        "elif 23 <= coin < 678:\n",
        "  n = coin // 23\n",
        "  if n == 1:\n",
        "    print(str(n) + \" chicken\")\n",
        "  else:\n",
        "    print(str(n) + \" chickens\")\n",
        "\n",
        "elif 678 <= coin < 1296:\n",
        "  n = coin // 678\n",
        "  if n == 1:\n",
        "    print(str(n) + \" goat\")\n",
        "  else:\n",
        "    print(str(n) + \" goats\")\n",
        "\n",
        "elif 1296 <= coin < 3848:\n",
        "  n = coin // 1296\n",
        "  if n == 1:\n",
        "    print(str(n) + \" pig\")\n",
        "  else:\n",
        "    print(str(n) + \" pigs\")\n",
        "\n",
        "elif 3848 <= coin < 6769:\n",
        "  n = coin // 3848\n",
        "  if n == 1:\n",
        "    print(str(n) + \" cow\")\n",
        "  else:\n",
        "    print(str(n) + \" cows\")\n",
        "\n",
        "elif coin >= 6769:\n",
        "  n = coin // 6769\n",
        "  print(str(n) + \" sheep\")\n"
      ],
      "execution_count": null,
      "outputs": []
    },
    {
      "cell_type": "code",
      "metadata": {
        "colab": {
          "base_uri": "https://localhost:8080/"
        },
        "id": "Pujtq6ghQWb7",
        "outputId": "ed8b6067-d969-40e8-a919-f8272e0c25e1"
      },
      "source": [
        "def start ():\n",
        "  print(\"\"\"H A N G M A N\n",
        "The game will be available soon.\"\"\")\n",
        "  \n",
        "def guess(guess_word):\n",
        "  if guess_word == \"python\":\n",
        "    print(\"You survived!\")\n",
        "  else:\n",
        "    print(\"You lost!\")\n",
        "\n",
        "start()\n",
        "guess_word = input()\n",
        "\n",
        "guess(guess_word)\n",
        "  \n",
        "\n",
        "\n"
      ],
      "execution_count": null,
      "outputs": [
        {
          "name": "stdout",
          "output_type": "stream",
          "text": [
            "H A N G M A N\n",
            "The game will be available soon.\n",
            "python\n",
            "You survived!\n"
          ]
        }
      ]
    },
    {
      "cell_type": "code",
      "metadata": {
        "id": "4hiAYlLxKRC3"
      },
      "source": [
        ""
      ],
      "execution_count": null,
      "outputs": []
    },
    {
      "cell_type": "code",
      "metadata": {
        "id": "4UCShKZLWn0s"
      },
      "source": [
        "numbers = tuple(int(n) for n in input().split())\n",
        "y = len(numbers)\n",
        "\n",
        "print(numbers[y-1])\n"
      ],
      "execution_count": null,
      "outputs": []
    },
    {
      "cell_type": "code",
      "metadata": {
        "colab": {
          "base_uri": "https://localhost:8080/"
        },
        "id": "yCGT_7wGVszp",
        "outputId": "c5fa1916-ce48-478b-f78c-d9f924880887"
      },
      "source": [
        "def ex_(numbers, numbers_ex):\n",
        "  print(numbers.extend(numbers_ex))\n",
        "\n",
        "\n",
        "numbers = [1, 2, 3, 4, 5]\n",
        "numbers.append([10, 20, 30])\n",
        "print(numbers)  # [1, 2, 3, 4, 5, [10, 20, 30]]"
      ],
      "execution_count": null,
      "outputs": [
        {
          "name": "stdout",
          "output_type": "stream",
          "text": [
            "[1, 2, 3, 4, 5, [10, 20, 30]]\n"
          ]
        }
      ]
    },
    {
      "cell_type": "code",
      "metadata": {
        "id": "cVwBahAAP_Sy"
      },
      "source": [
        "def army_def(number):\n",
        "  if number < 1:\n",
        "    print(\"no army\")\n",
        "  elif 1 <= number <= 9:\n",
        "    print(\"few\")\n",
        "  elif 10 <= number <= 49:\n",
        "    print(\"pack\")\n",
        "  elif 50 <= number <= 499:\n",
        "    print(\"horde\")\n",
        "  elif 500 <= number <= 999:\n",
        "    print(\"swarn\")\n",
        "  else:\n",
        "    print(\"legion\")\n",
        "\n",
        "number = int(input())\n",
        "army_def(number)\n"
      ],
      "execution_count": null,
      "outputs": []
    },
    {
      "cell_type": "code",
      "metadata": {
        "id": "kkgyJsesSbFo"
      },
      "source": [
        "dragons = [\"Oskar\",\"Elfg\",\"Netdas\",\"Yeret\",\"da\",\"1\",\"13\"]\n",
        "\n",
        "dragons.insert(len(dragons), \"Hui\")\n",
        "\n",
        "print(dragons)\n",
        "\n"
      ],
      "execution_count": null,
      "outputs": []
    },
    {
      "cell_type": "code",
      "metadata": {
        "id": "QGRModvngs2U"
      },
      "source": [
        "catalog = ['yogurt', 'apples', 'oranges', 'bananas', 'milk', 'cheese']\n",
        " \n",
        "product = input()\n",
        "\n",
        "print(\"In ? \")\n",
        "print(product in catalog)        # False\n"
      ],
      "execution_count": null,
      "outputs": []
    },
    {
      "cell_type": "code",
      "metadata": {
        "id": "_4H-DG2QEAom"
      },
      "source": [
        "grades = [8, 5, 7, 9, 8, 6, 5, 7, 6, 7, 8, 8, 7, 9]\n",
        "\n",
        "print(grades.index(8, 6, 11))"
      ],
      "execution_count": null,
      "outputs": []
    },
    {
      "cell_type": "code",
      "metadata": {
        "id": "6ixtJe42hZMK"
      },
      "source": [
        "# place `import` statement at top of the program\n",
        "import random\n",
        "\n",
        "# don't modify this code or variable `n` may not be available\n",
        "n = int(input())\n",
        "\n",
        "random.seed(n)\n",
        "\n",
        "print(random.randint(-100,100))\n",
        "# put your code here"
      ],
      "execution_count": null,
      "outputs": []
    },
    {
      "cell_type": "code",
      "metadata": {
        "id": "h_qOQpkB0d9b"
      },
      "source": [
        "import math\n",
        "# don't modify this code or the variables may not be available\n",
        "\n",
        "x, y = map(str, input().split(' '))\n",
        "\n",
        "print(y ,x)\n",
        "#print(math.copysign(x, y))"
      ],
      "execution_count": null,
      "outputs": []
    },
    {
      "cell_type": "code",
      "metadata": {
        "id": "o_i8GdpR4Dw5"
      },
      "source": [
        "# place `import` statement at top of the program\n",
        "import string\n",
        "\n",
        "\n",
        "# don't modify this code or the variable may not be available\n",
        "input_string = input()\n",
        "print(str.capitalize(input_string))"
      ],
      "execution_count": null,
      "outputs": []
    },
    {
      "cell_type": "code",
      "metadata": {
        "id": "V0TzFzTr5jUT"
      },
      "source": [
        "# place `import` statement at top of the program\n",
        "import string\n",
        "\n",
        "\n",
        "# don't modify this code or the variable may not be available\n",
        "input_string = input()\n",
        "\n",
        "\n",
        "# use capwords() here\n",
        "print(string.capwords(input_string))"
      ],
      "execution_count": null,
      "outputs": []
    },
    {
      "cell_type": "code",
      "metadata": {
        "id": "91FL81xl6yk4"
      },
      "source": [
        "import random\n",
        "\n",
        "\n",
        "# work with this variable\n",
        "n = int(input())\n",
        "random.seed(n)\n",
        "print(random.random())"
      ],
      "execution_count": null,
      "outputs": []
    },
    {
      "cell_type": "code",
      "metadata": {
        "id": "xNjp0dMXSzzv"
      },
      "source": [
        "import random\n",
        "\n",
        "# your sentence is assigned to the variable\n",
        "sentence = input().split()\n",
        "\n",
        "random.seed(43)\n",
        "# write your python code below\n",
        "\n",
        "random.shuffle(sentence)\n",
        "\n",
        "# shows the message\n",
        "print(' '.join(sentence))"
      ],
      "execution_count": null,
      "outputs": []
    },
    {
      "cell_type": "code",
      "metadata": {
        "id": "DKWdMbL7U7Us"
      },
      "source": [
        "import random\n",
        "\n",
        "\n",
        "random.seed(3)\n",
        "\n",
        "print(random.betavariate(0.9, 0.1))\n"
      ],
      "execution_count": null,
      "outputs": []
    },
    {
      "cell_type": "code",
      "metadata": {
        "id": "a5qqhlW2Xfey"
      },
      "source": [
        "def quadrant_point_finder(x_ax, y_ax):\n",
        "  if x_ax == y_ax == 0:\n",
        "    print(\"It's the origin!\")\n",
        "  elif x_ax == 0 or y_ax == 0:\n",
        "    print(\"One of the coordinates is equal to zero!\")\n",
        "  elif x_ax > 0 and y_ax > 0:\n",
        "    print(\"I\")\n",
        "  elif x_ax < 0 and y_ax > 0:\n",
        "    print(\"II\")\n",
        "  elif x_ax < 0 and y_ax < 0:\n",
        "    print(\"III\")\n",
        "  else:\n",
        "    print(\"IV\")\n",
        "\n",
        "\n",
        "\n",
        "x_axis = float(input())\n",
        "y_axis = float(input())\n",
        "\n",
        "quadrant_point_finder(x_axis, y_axis)\n"
      ],
      "execution_count": null,
      "outputs": []
    },
    {
      "cell_type": "code",
      "metadata": {
        "id": "kn9X_93pC8Ys"
      },
      "source": [
        "import random\n",
        "\n",
        "print(\"H A N G M A N\")\n",
        "\n",
        "secret_words = ['python', 'java', 'kotlin', 'javascript']\n",
        "\n",
        "x = random.choice(secret_words)\n",
        "a = str(\"-\" * len(x))\n",
        "print(a)\n",
        "\n",
        "y = list(x)\n",
        "\n",
        "\n",
        "\n",
        "n = 0\n",
        "while n < 8:\n",
        "  n += 1\n",
        "  guess_letter = input(\"Input a letter:\")\n",
        "  print(a)\n",
        "  if guess_letter in y:\n",
        "    ind = x.index()\n",
        "    print(ind)\n",
        "  else:\n",
        "      print(\"No\")\n",
        "\n",
        "  \n",
        "\n"
      ],
      "execution_count": null,
      "outputs": []
    },
    {
      "cell_type": "code",
      "metadata": {
        "colab": {
          "base_uri": "https://localhost:8080/"
        },
        "id": "nGnH1uIKyo_D",
        "outputId": "dd7305dc-34f3-474b-9f93-2323d212b640"
      },
      "source": [
        "name = 'Elizabeth II'\n",
        "title = 'Queen of the United Kingdom and the other Commonwealth realms'\n",
        "reign = 'the longest-lived and longest-reigning British monarch'\n",
        "print(f'{name}, the {title}, is {reign}.')"
      ],
      "execution_count": null,
      "outputs": [
        {
          "name": "stdout",
          "output_type": "stream",
          "text": [
            "Elizabeth II, the Queen of the United Kingdom and the other Commonwealth realms, is the longest-lived and longest-reigning British monarch.\n"
          ]
        }
      ]
    },
    {
      "cell_type": "code",
      "metadata": {
        "id": "f1uYdurZOaSG"
      },
      "source": [
        "word_input = input()\n",
        "length_word = len(word_input)\n",
        "print(f'{word_input} has {length_word} letters')"
      ],
      "execution_count": null,
      "outputs": []
    },
    {
      "cell_type": "code",
      "metadata": {
        "id": "aR14wY0iPQGU"
      },
      "source": [
        "pi = 3.141592653589793\n",
        "print('%.5f' % pi)\n",
        "# put your python code here"
      ],
      "execution_count": null,
      "outputs": []
    },
    {
      "cell_type": "code",
      "metadata": {
        "id": "k8zIQSaUPavj"
      },
      "source": [
        "movie_name = input()\n",
        "director = input()\n",
        "year_realesed = int(input())\n",
        "\n",
        "print(f'{movie_name} (dir. {director}) came out in {year_realesed}')"
      ],
      "execution_count": null,
      "outputs": []
    },
    {
      "cell_type": "code",
      "metadata": {
        "colab": {
          "base_uri": "https://localhost:8080/"
        },
        "id": "AELKfZQbR0tI",
        "outputId": "45cfb03e-7fa1-4dfc-b8fd-7445b2e42238"
      },
      "source": [
        "def tax_inc(income):\n",
        "  percent = 0\n",
        "  if income > 132406:\n",
        "      percent = 28\n",
        "  elif income > 42707:\n",
        "      percent = 25\n",
        "  elif income > 15527:\n",
        "      percent = 15\n",
        "  calculated_tax = round(income * percent / 100)\n",
        "\n",
        "  print(f'The tax for {income} is {percent}%. That is {calculated_tax} dollars!')\n",
        "\n",
        "\n",
        "income = int(input())\n",
        "tax_inc(income)"
      ],
      "execution_count": null,
      "outputs": [
        {
          "name": "stdout",
          "output_type": "stream",
          "text": [
            "4\n",
            "The tax for 4 is 0%. That is 0 dollars!\n"
          ]
        }
      ]
    },
    {
      "cell_type": "code",
      "metadata": {
        "colab": {
          "base_uri": "https://localhost:8080/"
        },
        "id": "AIrpkQSiRz9Q",
        "outputId": "820fa433-a955-4fe8-d5cc-ded933cccf3a"
      },
      "source": [
        "a_input = float(input())\n",
        "n = int(input())\n",
        "\n",
        "print(f'{a_input:.{n}f}')"
      ],
      "execution_count": null,
      "outputs": [
        {
          "name": "stdout",
          "output_type": "stream",
          "text": [
            "1.1111\n",
            "1\n",
            "1.1\n"
          ]
        }
      ]
    },
    {
      "cell_type": "code",
      "metadata": {
        "id": "EokHq4GnZ7Ip"
      },
      "source": [
        "nickname = input()\n",
        "profession = input()\n",
        "print(f'http://example.com/{nickname}/desirable/{profession}/profile')"
      ],
      "execution_count": null,
      "outputs": []
    },
    {
      "cell_type": "code",
      "metadata": {
        "id": "kpzv2FXlfETl"
      },
      "source": [
        "\n",
        "\n",
        "print(input().strip(\"*_~`\"))"
      ],
      "execution_count": null,
      "outputs": []
    },
    {
      "cell_type": "code",
      "metadata": {
        "id": "17UJST9wwPlB"
      },
      "source": [
        "name = input()\n",
        "\n",
        "def normalize(name):\n",
        "  a1 = name.replace('é','e')\n",
        "  a2 = a1.replace('ë','e')\n",
        "  a3 = a2.replace('á','a')\n",
        "  a4 = a3.replace('å','a')\n",
        "  a5 = a4.replace('œ','oe')\n",
        "  new_name = a5.replace('æ','ae')\n",
        "\n",
        "  return new_name\n",
        "\n",
        "print(normalize(name))"
      ],
      "execution_count": null,
      "outputs": []
    },
    {
      "cell_type": "code",
      "metadata": {
        "colab": {
          "base_uri": "https://localhost:8080/"
        },
        "id": "IdwXIyX4yMZO",
        "outputId": "dbf201b4-6751-4c69-d786-62250fbcf22b"
      },
      "source": [
        "name = input()\n",
        "\n",
        "def normalize(name):\n",
        "  new_name = name.replace('é','e').replace('ë','e').replace('á','a').replace('å','a').replace('œ','oe').replace('æ','ae')\n",
        "\n",
        "  return new_name\n",
        "\n",
        "print(normalize(name))"
      ],
      "execution_count": null,
      "outputs": [
        {
          "name": "stdout",
          "output_type": "stream",
          "text": [
            "Charlotte Brontë\n",
            "Charlotte Bronte\n"
          ]
        }
      ]
    },
    {
      "cell_type": "code",
      "metadata": {
        "id": "RQBgOmTpzTM-"
      },
      "source": [
        "x = input()\n",
        "c = x.replace(',' , '').replace('.', '').replace('!', '').replace('?', '').replace(')', '').replace('\"', '')\n",
        "\n",
        "print(c.lower())"
      ],
      "execution_count": null,
      "outputs": []
    },
    {
      "cell_type": "code",
      "metadata": {
        "id": "M19ljOi86l97"
      },
      "source": [
        "old = \"old macdonald had an old farm\"\n",
        "print(max(old.find('old'), old.rfind('old')))"
      ],
      "execution_count": null,
      "outputs": []
    },
    {
      "cell_type": "code",
      "metadata": {
        "id": "pjkTCJf_Id7l"
      },
      "source": [
        "\n",
        "print(input().count('happy'))"
      ],
      "execution_count": null,
      "outputs": []
    },
    {
      "cell_type": "code",
      "metadata": {
        "id": "Dn-t5O0tJDtK"
      },
      "source": [
        "def what_to_do(instructions):\n",
        "\n",
        "  if instructions.startswith('Simon says'):\n",
        "    return instructions.replace('Simon says ', 'I')\n",
        "  elif instructions.endswith('Simon says'):\n",
        "    return 'I ' + instructions[0: (len(instructions) - 10)]\n",
        "  else:\n",
        "    return \"I won't do it!\"\n",
        "\n",
        "\n",
        "instructions = input()\n",
        "print(what_to_do(instructions))\n",
        "    "
      ],
      "execution_count": null,
      "outputs": []
    },
    {
      "cell_type": "code",
      "metadata": {
        "colab": {
          "base_uri": "https://localhost:8080/"
        },
        "id": "CsyZLCkHseeI",
        "outputId": "5285b38a-ef2c-4111-ed11-3b1faa152c8d"
      },
      "source": [
        "uber_drivers = {'dastik' ,'yerkebulan','kenzhegazy' ,'kenzhegazy','kenzhegazy','balkash', 'zhiger' , 'arystan' ,'dastik' ,'dastik' ,'dastik' ,'maksat','abduvakhid'}\n",
        "print(type(uber_drivers))\n",
        "\n",
        "#lyft = set('aaaaadddddaaaammmmm')\n",
        "#print(len(lyft))\n",
        "#print(lyft)\n"
      ],
      "execution_count": null,
      "outputs": [
        {
          "name": "stdout",
          "output_type": "stream",
          "text": [
            "<class 'set'>\n"
          ]
        }
      ]
    },
    {
      "cell_type": "code",
      "metadata": {
        "id": "GU_HUqfdCITT"
      },
      "source": [
        "a = {'Abdu' , 'Adam' , 'Amin', 'Alan'}\n",
        "\n",
        "for h in a:\n",
        "  print(h)"
      ],
      "execution_count": null,
      "outputs": []
    },
    {
      "cell_type": "code",
      "metadata": {
        "id": "zwjdGtzROe2j"
      },
      "source": [
        "digits = {0:\"zero\",1:\"one\",2:\"two\",3:\"three\",\n",
        "           4:\"four\",5:\"five\",6:\"six\",7:\"seven\",8:\"eight\",\n",
        "           9:\"nine\"}\n",
        "\n",
        "x = input()\n",
        "for i in x:\n",
        "    p = int(i)\n",
        "    print(digits[p])"
      ],
      "execution_count": null,
      "outputs": []
    },
    {
      "cell_type": "code",
      "metadata": {
        "colab": {
          "base_uri": "https://localhost:8080/"
        },
        "id": "T9xOr90NGrYy",
        "outputId": "f12ab893-560b-4e28-f35a-39a1d0d2df51"
      },
      "source": [
        "string = \"red yellow fox bite orange goose beeeeeeeeeeep\"\n",
        "\n",
        "vowels = 'aeiou'\n",
        "\n",
        "count = 0\n",
        "for x in vowels:\n",
        "  for y in string:\n",
        "    if x == y:\n",
        "      count += 1\n",
        "print(count)"
      ],
      "execution_count": null,
      "outputs": [
        {
          "name": "stdout",
          "output_type": "stream",
          "text": [
            "23\n"
          ]
        }
      ]
    },
    {
      "cell_type": "code",
      "metadata": {
        "colab": {
          "base_uri": "https://localhost:8080/"
        },
        "id": "88ztEZ4uN-gD",
        "outputId": "c5b61bba-bcef-43f7-890b-fb3a77b6c786"
      },
      "source": [
        "  word = input()\n",
        "  ss= word[::-1]\n",
        "  if word == ss:\n",
        "    print(\"Palindrome\")\n",
        "  else:\n",
        "    print(\"Not palindrome\")\n"
      ],
      "execution_count": null,
      "outputs": [
        {
          "name": "stdout",
          "output_type": "stream",
          "text": [
            "noon\n",
            "Palindrome\n"
          ]
        }
      ]
    },
    {
      "cell_type": "code",
      "metadata": {
        "id": "TjFTK8PDgM5e"
      },
      "source": [
        "a = int(input())\n",
        "b = int(input())\n",
        "\n",
        "count = 0\n",
        "total = 0\n",
        "\n",
        "for x in range(a,b+1):\n",
        "  if x % 3 == 0:\n",
        "    total += x\n",
        "    count += 1\n",
        "\n",
        "\n",
        "print(total/count)"
      ],
      "execution_count": null,
      "outputs": []
    },
    {
      "cell_type": "code",
      "metadata": {
        "colab": {
          "base_uri": "https://localhost:8080/"
        },
        "id": "wRLf7x0ta8uY",
        "outputId": "715e8ac4-8b3a-486c-9951-0a2be0fc3a75"
      },
      "source": [
        "for x in range (1, 16):\n",
        "    if x % 3 == 0 == x % 5:\n",
        "        print(\"FizzBuzz\")\n",
        "    elif x % 3 == 0:\n",
        "        print(\"Fizz\")\n",
        "    elif x % 5 == 0:\n",
        "        print(\"Buzz\")\n",
        "    else:\n",
        "        print(x)"
      ],
      "execution_count": null,
      "outputs": [
        {
          "name": "stdout",
          "output_type": "stream",
          "text": [
            "1\n",
            "2\n",
            "Fizz\n",
            "4\n",
            "Buzz\n",
            "Fizz\n",
            "7\n",
            "8\n",
            "Fizz\n",
            "Buzz\n",
            "11\n",
            "Fizz\n",
            "13\n",
            "14\n",
            "FizzBuzz\n"
          ]
        }
      ]
    },
    {
      "cell_type": "code",
      "metadata": {
        "id": "wgI5NiPufrbh"
      },
      "source": [
        "n = int(input())\n",
        "x = []\n",
        "for _i in range(n):\n",
        "  list_ = int(input())\n",
        "  x.append(list_)\n",
        "print(x)"
      ],
      "execution_count": null,
      "outputs": []
    },
    {
      "cell_type": "code",
      "metadata": {
        "id": "OVlZutSPhFgH"
      },
      "source": [
        "number = int(input())\n",
        "sum = 0\n",
        "for _ in range(number):\n",
        "  \n",
        "  enter_num = int(input())\n",
        "  sum += enter_num\n",
        "\n",
        "print(sum / number) "
      ],
      "execution_count": null,
      "outputs": []
    },
    {
      "cell_type": "code",
      "metadata": {
        "id": "EbgG4zohrLmz"
      },
      "source": [
        "list_ = input()\n",
        "string = list(list_)\n",
        "jana = []\n",
        "\n",
        "for x in string:\n",
        "\n",
        "  if x == x.upper():\n",
        "    if string.index(x) > 0:\n",
        "      jana.append('_')\n",
        "      \n",
        "  jana.append(x)\n",
        "\n",
        "str1 = ''.join(jana)\n",
        "print(str1.lower())\n",
        "\n"
      ],
      "execution_count": null,
      "outputs": []
    },
    {
      "cell_type": "code",
      "metadata": {
        "id": "NxoC-sdY76GO"
      },
      "source": [
        "import random\n",
        "\n",
        "print(\"H A N G M A N\")\n",
        "print()\n",
        "\n",
        "secret_words = ['python', 'java', 'kotlin', 'javascript']\n",
        "x = random.choice(secret_words)\n",
        "s_w = \"-\" * len(x)\n",
        "sw_list = list(s_w)\n",
        "\n",
        "n = 0\n",
        "while n <= 7:\n",
        "  n += 1\n",
        "\n",
        "  print(s_w)\n",
        "\n",
        "  guess_letter = input(\"Input a letter:\")\n",
        "  \n",
        "  if guess_letter in x:\n",
        "    for i in range(len(x)):\n",
        "      test = x[i]\n",
        "      if test == guess_letter:\n",
        "        sw_list.pop(i)\n",
        "        sw_list.insert(i, guess_letter)\n",
        "        s_w = ''.join(sw_list)\n",
        "     \n",
        "        print()\n",
        "  \n",
        "  else:\n",
        "    print(\"That letter doesn't appear in the word\")\n",
        "    print()\n",
        "\n",
        "print(\"\"\"Thanks for playing!\n",
        "We'll see how well you did in the next stage\"\"\")"
      ],
      "execution_count": null,
      "outputs": []
    },
    {
      "cell_type": "code",
      "metadata": {
        "id": "tU9y1XcAVu8C"
      },
      "source": [
        "\n",
        "import random\n",
        "\n",
        "print(\"H A N G M A N\")\n",
        "print()\n",
        "\n",
        "secret_words = ['java'] #'java', \"non\", \"koten\"]\n",
        "#secret_words = ['python', 'java', 'kotlin', 'javascript']\n",
        "x = random.choice(secret_words)\n",
        "s_w = \"-\" * len(x)\n",
        "sw_list = list(s_w)\n",
        "\n",
        "\n",
        "n = 0\n",
        "while n < 8:\n",
        "  n += 1\n",
        "\n",
        "  print()\n",
        "  print(s_w)\n",
        "  guess_letter = input(\"Input a letter:\")\n",
        "  \n",
        "\n",
        "\n",
        "  if guess_letter in x:\n",
        "    if n == 8:\n",
        "      print(\"You lost!\"\n",
        "      )\n",
        "    \n",
        "    elif s_w == x:\n",
        "      print(\"\"\"You guessed the word!\n",
        "You survived!\"\"\")\n",
        "      n = 8\n",
        "\n",
        "    elif guess_letter in s_w:\n",
        "      print(\"No improvements\")\n",
        "      if n == 8:\n",
        "        print(\"You lost!\")\n",
        "    \n",
        "    else:\n",
        "      for i in range(len(x)):\n",
        "        test = x[i]\n",
        "        if test == guess_letter:\n",
        "          n -= 1\n",
        "          sw_list.pop(i)\n",
        "          sw_list.insert(i, guess_letter)\n",
        "          s_w = ''.join(sw_list)\n",
        "\n",
        "          \n",
        "          if s_w == x:\n",
        "            print()\n",
        "            print(x)\n",
        "            print(\"\"\"You guessed the word!\n",
        "You survived!\"\"\")\n",
        "            n = 8\n",
        "           \n",
        "                    \n",
        "  elif guess_letter not in x:\n",
        "    print(\"That letter doesn't appear in the word\")\n",
        "    if n == 8:\n",
        "      print(\"You lost!\")\n"
      ],
      "execution_count": null,
      "outputs": []
    },
    {
      "cell_type": "code",
      "metadata": {
        "id": "CuYI1TN41KCA"
      },
      "source": [
        "\n",
        "import random\n",
        "\n",
        "print(\"H A N G M A N\")\n",
        "print()\n",
        "\n",
        "secret_words = ['java'] #'java', \"non\", \"koten\"]\n",
        "#secret_words = ['python', 'java', 'kotlin', 'javascript']\n",
        "\n",
        "x = random.choice(secret_words)\n",
        "s_w = \"-\" * len(x)\n",
        "sw_list = list(s_w)\n",
        "\n",
        "\n",
        "n = 0\n",
        "while n < 8:\n",
        "  n += 1\n",
        "\n",
        "  print()\n",
        "  print(s_w)\n",
        "  guess_letter = input(\"Input a letter:\")\n",
        "  \n",
        "\n",
        "  if guess_letter in x:\n",
        "    \n",
        "    if s_w == x :\n",
        "      print(\"\"\"You guessed the word!\n",
        "You survived!\"\"\")\n",
        "      n = 8\n",
        "\n",
        "    elif guess_letter in s_w:\n",
        "      print(\"No improvements\")\n",
        "      if n == 8:\n",
        "        print(\"You lost!\")\n",
        "    \n",
        "    else:\n",
        "      for i in range(len(x)):\n",
        "        test = x[i]\n",
        "        if test == guess_letter:\n",
        "          sw_list.pop(i)\n",
        "          sw_list.insert(i, guess_letter)\n",
        "          s_w = ''.join(sw_list)\n",
        "          n -= 1\n",
        "\n",
        "          \n",
        "          if s_w == x:\n",
        "            print()\n",
        "            print(x)\n",
        "            print(\"\"\"You guessed the word!\n",
        "You survived!\"\"\")\n",
        "            n = 8\n",
        "           \n",
        "                    \n",
        "  elif guess_letter not in x:\n",
        "    print(\"That letter doesn't appear in the word\")\n",
        "    if n == 7:\n",
        "      print(\"You lost!\")\n",
        "      n = 8\n"
      ],
      "execution_count": null,
      "outputs": []
    },
    {
      "cell_type": "code",
      "metadata": {
        "id": "LwZu7Tjx8D1V"
      },
      "source": [
        "\n",
        "import random\n",
        "import string\n",
        "\n",
        "print(\"H A N G M A N\")\n",
        "print()\n",
        "\n",
        "#secret_words = ['java'] #'java', \"non\", \"koten\"]\n",
        "secret_words = ['python', 'java', 'kotlin', 'javascript']\n",
        "\n",
        "x = random.choice(secret_words)\n",
        "s_w = \"-\" * len(x)\n",
        "sw_list = list(s_w)\n",
        "\n",
        "hub = list()\n",
        "\n",
        "n = 0\n",
        "while n < 8:\n",
        "  n += 1\n",
        "\n",
        "  print()\n",
        "  print(s_w)\n",
        "  guess_letter = input(\"Input a letter:\")\n",
        "  \n",
        "  \n",
        "  if guess_letter == guess_letter.upper() and len(guess_letter) == 1:\n",
        "    print(\"Please enter a lowercase English letter\")\n",
        "    n -= 1\n",
        "    if n == 8:\n",
        "      print(\"You lost!\")\n",
        "      n = 8\n",
        "\n",
        "  else:\n",
        "    if len(guess_letter) != 1:\n",
        "      print(\"You should input a single letter\")\n",
        "      n -= 1\n",
        "      if n == 8:\n",
        "        print(\"You lost!\")\n",
        "        n = 8\n",
        "\n",
        "    else:\n",
        "      \n",
        "      if guess_letter in x:\n",
        "        if s_w == x :\n",
        "          print(\"\"\"You guessed the word!\n",
        "You survived!\"\"\")\n",
        "          n = 8\n",
        "\n",
        "        elif guess_letter in s_w:\n",
        "          n -= 1\n",
        "          print(\"You've already guessed this letter\")\n",
        "          if n == 8:\n",
        "            print(\"You lost!\")\n",
        "        \n",
        "        else:\n",
        "          for i in range(len(x)):\n",
        "            test = x[i]\n",
        "            if test == guess_letter:\n",
        "              sw_list.pop(i)\n",
        "              sw_list.insert(i, guess_letter)\n",
        "              s_w = ''.join(sw_list)\n",
        "              n -= 1\n",
        "              if s_w == x:\n",
        "                print()\n",
        "                print(x)\n",
        "                print(\"\"\"You guessed the word \"\"\"+x+\"\"\"!\n",
        "You survived!\"\"\")\n",
        "                n = 8\n",
        "\n",
        "      else:\n",
        "        hub.append(guess_letter)\n",
        "        if guess_letter not in x:\n",
        "          if hub.count(guess_letter) == 1:\n",
        "            print(\"That letter doesn't appear in the word\")\n",
        "          else:\n",
        "            n -= 1\n",
        "            print(\"You've already guessed this letter\")\n",
        "\n",
        "        if n == 8:\n",
        "          print(\"You lost!\")\n",
        "          n = 8\n"
      ],
      "execution_count": null,
      "outputs": []
    },
    {
      "cell_type": "code",
      "metadata": {
        "id": "WyCsLCRTFwe7"
      },
      "source": [
        "\n",
        "import random\n",
        "\n",
        "\n",
        "\n",
        "print(\"H A N G M A N\")\n",
        "start_game = input('Type \"play\" to play the game, \"exit\" to quit:')\n",
        "\n",
        "m = 0\n",
        "while start_game == 'exit' or start_game == 'play':\n",
        "  m += 1\n",
        "    \n",
        "  if start_game == 'play':\n",
        "        \n",
        "    print()\n",
        "    secret_words = ['python']#, 'java', 'kotlin', 'javascript']\n",
        "\n",
        "    x = random.choice(secret_words)\n",
        "    s_w = \"-\" * len(x)\n",
        "    sw_list = list(s_w)\n",
        "\n",
        "    hub = list()\n",
        "\n",
        "\n",
        "    n = 0\n",
        "    while n < 8:\n",
        "      n += 1\n",
        "\n",
        "      print()\n",
        "      print(s_w)\n",
        "      guess_letter = input(\"Input a letter:\")\n",
        "      \n",
        "      \n",
        "      if guess_letter == guess_letter.upper() and len(guess_letter) == 1:\n",
        "        print(\"Please enter a lowercase English letter\")\n",
        "        n -= 1\n",
        "        if n == 8:\n",
        "          print(\"You lost!\")\n",
        "          n = 8\n",
        "\n",
        "      else:\n",
        "        if len(guess_letter) != 1:\n",
        "          print(\"You should input a single letter\")\n",
        "          n -= 1\n",
        "          if n == 8:\n",
        "            print(\"You lost!\")\n",
        "            n = 8\n",
        "\n",
        "        else:\n",
        "          \n",
        "          if guess_letter in x:\n",
        "            if s_w == x :\n",
        "              print(\"\"\"You guessed the word!\n",
        "You survived!\"\"\")\n",
        "              n = 8\n",
        "\n",
        "            elif guess_letter in s_w:\n",
        "              n -= 1\n",
        "              print(\"You've already guessed this letter\")\n",
        "              if n == 8:\n",
        "                print(\"You lost!\")\n",
        "            \n",
        "            else:\n",
        "              for i in range(len(x)):\n",
        "                test = x[i]\n",
        "                if test == guess_letter:\n",
        "                  sw_list.pop(i)\n",
        "                  sw_list.insert(i, guess_letter)\n",
        "                  s_w = ''.join(sw_list)\n",
        "                  n -= 1\n",
        "                  if s_w == x:\n",
        "                    print()\n",
        "                    print(x)\n",
        "                    print(\"\"\"You guessed the word \"\"\"+x+\"\"\"!\n",
        "You survived!\"\"\")\n",
        "                    n = 8\n",
        "\n",
        "          else:\n",
        "            hub.append(guess_letter)\n",
        "            if guess_letter not in x:\n",
        "              if hub.count(guess_letter) == 1:\n",
        "                print(\"That letter doesn't appear in the word\")\n",
        "              else:\n",
        "                n -= 1\n",
        "                print(\"You've already guessed this letter\")\n",
        "\n",
        "            if n == 8:\n",
        "              print(\"You lost!\")\n",
        "              n = 8\n",
        "    break\n",
        "\n",
        "  elif start_game == 'exit':\n",
        "    break"
      ],
      "execution_count": null,
      "outputs": []
    },
    {
      "cell_type": "markdown",
      "metadata": {
        "id": "0Oe2rZTOupFV"
      },
      "source": [
        "Loan Calculator Project"
      ]
    },
    {
      "cell_type": "code",
      "metadata": {
        "colab": {
          "base_uri": "https://localhost:8080/"
        },
        "id": "0qRUsvFUunhQ",
        "outputId": "a6af0e06-74d5-47dd-ed31-3a886f43dc05"
      },
      "source": [
        "import math\n",
        "\n",
        "print(\"Enter the loan principal:\")\n",
        "\n",
        "loan_principal = int(input())\n",
        "\n",
        "print(\"\"\"What do you want to calculate?\n",
        "type \"m\" - for number of monthly payments,\n",
        "type \"p\" - for the monthly payment:\"\"\")\n",
        "\n",
        "choose_opt = input()\n",
        "\n",
        "\n",
        "#calculating number of monthly payments\n",
        "\n",
        "if choose_opt == \"m\":\n",
        "  print(\"Enter the monthly payment:\")\n",
        "  month_p = int(input())\n",
        "  month = math.ceil(loan_principal / month_p)\n",
        "\n",
        "  if month != 1:\n",
        "    print(f'It will take {month} months to repay the loan')\n",
        "\n",
        "  else:\n",
        "    print(f'It will take {month} month to repay the loan')\n",
        "\n",
        "#calculating monthly payment\n",
        "elif choose_opt == \"p\":\n",
        "\n",
        "  print(\"Enter the number of months:\")\n",
        "  \n",
        "  period = int(input())\n",
        "  payment = math.ceil(loan_principal / period)\n",
        "  y = period - 1\n",
        "    \n",
        "  if loan_principal % period == 0:\n",
        "    print(f'Your monthly payment = {payment}')\n",
        "\n",
        "  else:\n",
        "    lastpayment = loan_principal - y * payment \n",
        "    print(f'Your monthly payment = {payment} and the last payment = {lastpayment}.')\n",
        "\n"
      ],
      "execution_count": null,
      "outputs": [
        {
          "name": "stdout",
          "output_type": "stream",
          "text": [
            "Enter the loan principal:\n",
            "1000\n",
            "What do you want to calculate?\n",
            "type \"m\" - for number of monthly payments,\n",
            "type \"p\" - for the monthly payment:\n",
            "p\n",
            "Enter the number of months:\n",
            "10\n",
            "Your monthly payment = 100\n"
          ]
        }
      ]
    },
    {
      "cell_type": "code",
      "metadata": {
        "colab": {
          "base_uri": "https://localhost:8080/"
        },
        "id": "s9vXBylT0eVW",
        "outputId": "2807ff5f-b8a4-45b4-c314-b5b619b23ebf"
      },
      "source": [
        "#payment = loan_principal // period\n",
        "    \n",
        "lastpayment = 1000 - ((9 - 1) * 112)\n",
        "\n",
        "print(lastpayment)"
      ],
      "execution_count": null,
      "outputs": [
        {
          "name": "stdout",
          "output_type": "stream",
          "text": [
            "104\n"
          ]
        }
      ]
    },
    {
      "cell_type": "code",
      "metadata": {
        "colab": {
          "base_uri": "https://localhost:8080/"
        },
        "id": "lwO78miQWvEe",
        "outputId": "39f77942-e24b-4e4c-ece4-25eb3aad83c1"
      },
      "source": [
        "import math\n",
        "\n",
        "print(\"Enter the loan principal:\")\n",
        "principal = int(input())\n",
        "print(\"What do you want to calculate?\")\n",
        "print('type \"m\" for number of monthly payments,')\n",
        "print('type \"p\" for the monthly payment')\n",
        "choice = input()\n",
        "\n",
        "if choice == \"m\":\n",
        "\n",
        "    print(\"Enter the monthly payment:\")\n",
        "    monthly_payment = int(input())\n",
        "    print(\"\")\n",
        "    print(\"It will take \", math.ceil(principal / monthly_payment), \" months to repay the loan\")\n",
        "\n",
        "else:\n",
        "    print(\"Enter the number of months:\")\n",
        "    no_of_months = int(input())\n",
        "    payment = math.ceil( principal / no_of_months)\n",
        "    y = no_of_months - 1\n",
        "    lastpayment = principal- y*payment \n",
        "    print(\"Your monthly payment = \", payment, \"and the last payment = \", lastpayment)\n",
        "\n"
      ],
      "execution_count": null,
      "outputs": [
        {
          "name": "stdout",
          "output_type": "stream",
          "text": [
            "Enter the loan principal:\n",
            "100000000000\n",
            "What do you want to calculate?\n",
            "type \"m\" for number of monthly payments,\n",
            "type \"p\" for the monthly payment\n",
            "p\n",
            "Enter the number of months:\n",
            "898\n",
            "Your monthly payment =  111358575 and the last payment =  111358225\n"
          ]
        }
      ]
    },
    {
      "cell_type": "code",
      "metadata": {
        "id": "PyvIqoRR-WP5"
      },
      "source": [
        "grade = float(input())\n",
        "max_grade = float(input())\n",
        "\n",
        "grade_90 = float(max_grade * 90 / 100)\n",
        "grade_80 = float(max_grade * 80 / 100)\n",
        "grade_70 = float(max_grade * 70 / 100)\n",
        "grade_60 = float(max_grade * 60 / 100)\n",
        "\n",
        "\n",
        "if grade_90 <= grade <= max_grade:\n",
        "  print(\"A\")\n",
        "elif grade_80 <= grade <= grade_90:\n",
        "  print(\"B\") \n",
        "elif grade_70 <= grade <= grade_80:\n",
        "  print(\"C\")\n",
        "elif grade_60 <= grade <= grade_70:\n",
        "  print(\"D\")\n",
        "else:\n",
        "  print(\"F\")  \n",
        "\n"
      ],
      "execution_count": null,
      "outputs": []
    },
    {
      "cell_type": "code",
      "metadata": {
        "id": "gTZArcrTDXrG"
      },
      "source": [
        "a = int(input())\n",
        "b = int(input())\n",
        "c = int(input())\n",
        "\n",
        "p = (a + b + c) / 2\n",
        "\n",
        "s = math.sqrt(p *(p - a) * (p - b) * (p - c))\n",
        "\n",
        "print(s)"
      ],
      "execution_count": null,
      "outputs": []
    },
    {
      "cell_type": "code",
      "metadata": {
        "id": "qWBnZ-U_T9Hd"
      },
      "source": [
        "print(round((math.pi * pow(int(input()),2)),2))"
      ],
      "execution_count": null,
      "outputs": []
    },
    {
      "cell_type": "code",
      "metadata": {
        "colab": {
          "base_uri": "https://localhost:8080/"
        },
        "id": "0vYLdx8oLWla",
        "outputId": "ea4b3807-b460-48ba-c4c0-8cf76bbd8f9f"
      },
      "source": [
        "import math\n",
        "\n",
        "\n",
        "deg = float(input())\n",
        "x = math.radians(deg)  # 1.047...\n",
        "\n",
        "cos = math.cos(x)  # 0.500...\n",
        "sin = math.sin(x)  # 0.866...\n",
        "\n",
        "print(round(cos / sin ,10 ))\n",
        "\n"
      ],
      "execution_count": null,
      "outputs": [
        {
          "name": "stdout",
          "output_type": "stream",
          "text": [
            "62\n",
            "0.5317094317\n"
          ]
        }
      ]
    },
    {
      "cell_type": "code",
      "metadata": {
        "id": "PRaIhz8VOGJr"
      },
      "source": [
        "import math\n",
        "\n",
        "x = abs(int(input()))\n",
        "y = int(input())\n",
        "\n",
        "if y <= 1:\n",
        "  print(round(math.log(x), 2))\n",
        "else:\n",
        "  print(round(math.log(x, y), 2))\n"
      ],
      "execution_count": null,
      "outputs": []
    },
    {
      "cell_type": "code",
      "metadata": {
        "colab": {
          "base_uri": "https://localhost:8080/"
        },
        "id": "yHALBGsBzJQP",
        "outputId": "cf20d5e3-aaed-445d-98ba-49a164ee8a1e"
      },
      "source": [
        "import math\n",
        "\n",
        "print(\"Enter the loan principal:\")\n",
        "\n",
        "loan_principal = int(input())\n",
        "\n",
        "print(\"\"\"What do you want to calculate?\n",
        "type \"m\" - for number of monthly payments,\n",
        "type \"p\" - for the monthly payment:\"\"\")\n",
        "\n",
        "choose_opt = input()\n",
        "\n",
        "\n",
        "#calculating number of monthly payments\n",
        "\n",
        "if choose_opt == \"m\":\n",
        "  print(\"Enter the monthly payment:\")\n",
        "  month_p = int(input())\n",
        "  month = math.ceil(loan_principal / month_p)\n",
        "\n",
        "  if month != 1:\n",
        "    print(f'It will take {month} months to repay the loan')\n",
        "\n",
        "  else:\n",
        "    print(f'It will take {month} month to repay the loan')\n",
        "\n",
        "\n",
        "\n",
        "\n",
        "# -- - - - - - - - - - - - - - -- - - - - - -- - - - - - -\n",
        "#calculating monthly payment\n",
        "elif choose_opt == \"p\":\n",
        "\n",
        "  print(\"Enter the number of months:\")\n",
        "  \n",
        "  period = int(input())\n",
        "  payment = math.ceil(loan_principal / period)\n",
        "  y = period - 1\n",
        "    \n",
        "  if loan_principal % period == 0:\n",
        "    print(f'Your monthly payment = {payment}')\n",
        "\n",
        "  else:\n",
        "    lastpayment = loan_principal - y * payment \n",
        "    print(f'Your monthly payment = {payment} and the last payment = {lastpayment}.')\n",
        "\n"
      ],
      "execution_count": null,
      "outputs": [
        {
          "name": "stdout",
          "output_type": "stream",
          "text": [
            "Enter the loan principal:\n",
            "10000\n",
            "What do you want to calculate?\n",
            "type \"m\" - for number of monthly payments,\n",
            "type \"p\" - for the monthly payment:\n",
            "p\n",
            "Enter the number of months:\n",
            "12\n",
            "Your monthly payment = 834 and the last payment = 826.\n"
          ]
        }
      ]
    },
    {
      "cell_type": "code",
      "metadata": {
        "colab": {
          "base_uri": "https://localhost:8080/"
        },
        "id": "fD4Y_PDQzs6T",
        "outputId": "906215a8-2daf-4efe-b925-9ed036c043ad"
      },
      "source": [
        "import math\n",
        "\n",
        "print(\"\"\"What do you want to calculate?\n",
        "type \"n\" for number of monthly payments,\n",
        "type \"a\" for annuity monthly payment amount,\n",
        "type \"p\" for loan principal:\"\"\")\n",
        "\n",
        "choice = input()\n",
        "\n",
        "# \"n\" for number of monthly payments \n",
        "\n",
        "if choice == \"n\":\n",
        "  print(\"Enter the loan principal:\")\n",
        "  principal  = int(input())             # principal\n",
        "\n",
        "  print(\"Enter the monthly payment:\")\n",
        "  payment = int(input())                # payment\n",
        "\n",
        "  print(\"Enter the loan interest:\")\n",
        "  interest = float(input())               # interest\n",
        "\n",
        "  i = interest/(12 * 100)\n",
        "  x = payment/(payment - i * principal)\n",
        "  n = math.ceil(math.log(x , 1+ i))\n",
        "\n",
        "  year = n // 12 \n",
        "  month = n % 12\n",
        "  if year == 1 == month:\n",
        "    print(f'It will take {year} year and {month} month to repay this loan!')\n",
        "\n",
        "  elif  year == 0 and month == 1:\n",
        "    print(f'It will take {month} month to repay this loan!')\n",
        "\n",
        "  elif  year == 0 and month > 1:\n",
        "    print(f'It will take {month} months to repay this loan!')\n",
        "\n",
        "  elif year == 1 and 0 == month:\n",
        "    print(f'It will take {year} year to repay this loan!')\n",
        "\n",
        "  elif year > 1 and 0 == month:\n",
        "    print(f'It will take {year} years to repay this loan!') \n",
        "\n",
        "  else:\n",
        "    print(f'It will take {year} years and {month} months to repay this loan!')\n",
        "\n",
        "\n",
        "# \"a\" for annuity monthly payment amount \n",
        "\n",
        "elif choice == \"a\":\n",
        "  print(\"Enter the loan principal:\")\n",
        "  principal = int(input())\n",
        "  print(\"Enter the number of periods:\")\n",
        "  periods = int(input())\n",
        "  print(\"Enter the loan interest:\")\n",
        "  interest = float(input())\n",
        "\n",
        "  i = interest/(12 * 100)\n",
        "  x = 1 + i\n",
        "  numerator = i * math.pow(x, periods) \n",
        "  denominator =  math.pow(x, periods) - 1\n",
        "\n",
        "  payment = principal * (numerator / denominator)\n",
        "\n",
        "\n",
        "  print(f'Your monthly payment = {math.ceil(payment)}!')\n",
        "\n",
        "\n",
        "elif choice == \"p\":\n",
        "  print(\"Enter the annuity payment:\")\n",
        "  payment = float(input())\n",
        "  print(\"Enter the number of periods:\")\n",
        "  periods = int(input())\n",
        "  print(\"Enter the loan interest:\")\n",
        "  interest = float(input())\n",
        "\n",
        "  i = interest/(12 * 100)\n",
        "\n",
        "\n",
        "\n",
        "  numerator = i * math.pow((1 + i), periods)\n",
        "  denominator = math.pow((1 + i), periods) - 1\n",
        "  principal = payment / (numerator / denominator)\n",
        "\n",
        "  print(f'Your loan principal = {round(principal)}!')\n",
        "\n",
        "\n"
      ],
      "execution_count": null,
      "outputs": [
        {
          "name": "stdout",
          "output_type": "stream",
          "text": [
            "What do you want to calculate?\n",
            "type \"n\" for number of monthly payments,\n",
            "type \"a\" for annuity monthly payment amount,\n",
            "type \"p\" for loan principal:\n",
            "n\n",
            "Enter the loan principal:\n",
            "700000\n",
            "Enter the monthly payment:\n",
            "26000\n",
            "Enter the loan interest:\n",
            "9.1\n",
            "It will take 2 years and 7 months to repay this loan!\n"
          ]
        }
      ]
    },
    {
      "cell_type": "code",
      "metadata": {
        "id": "tVFRSloMYLax"
      },
      "source": [
        "\n",
        "def dev(n):\n",
        "  if n % 2 != 0:\n",
        "    print(\"Weird\")\n",
        "  elif n % 2 == 0 and 2 <= n <= 5:\n",
        "    print(\"Not Weird\")\n",
        "  elif n % 2 == 0 and 6 <= n <= 20:\n",
        "    print(\"Weird\") \n",
        "  elif n % 2 == 0 and 21 <= n <= 100:\n",
        "    print(\"Not Weird\")\n",
        "\n",
        "n = int(input())\n",
        "dev(n)"
      ],
      "execution_count": null,
      "outputs": []
    },
    {
      "cell_type": "code",
      "metadata": {
        "colab": {
          "base_uri": "https://localhost:8080/"
        },
        "id": "dgsQjwmvbOJU",
        "outputId": "7aee4de1-cd9a-4f06-af47-1c808c8d911f"
      },
      "source": [
        "cells = input(\"Enter cells:\")\n",
        "\n",
        "# row_1 = cells[0:3]\n",
        "# row_2 = cells[3:6]\n",
        "# row_3 = cells[6:9]\n",
        "\n",
        "\n",
        "print(\"---------\")\n",
        "print(\"|\",cells[0],cells[1],cells[2],\"|\")\n",
        "print(\"|\",cells[3],cells[4],cells[5],\"|\")\n",
        "print(\"|\",cells[6],cells[7],cells[8],\"|\")\n",
        "print(\"---------\")\n"
      ],
      "execution_count": null,
      "outputs": [
        {
          "name": "stdout",
          "output_type": "stream",
          "text": [
            "Enter cells:_XO__X___\n",
            "---------\n",
            "| _ X O |\n",
            "| _ _ X |\n",
            "| _ _ _ |\n",
            "---------\n"
          ]
        }
      ]
    },
    {
      "cell_type": "code",
      "metadata": {
        "colab": {
          "base_uri": "https://localhost:8080/",
          "height": 215
        },
        "id": "W8jUPr74IPM0",
        "outputId": "b23b1511-e998-4f85-a572-e48b035e98e5"
      },
      "source": [
        "strings = [\"8.9\", \"6.0\", \"8.1\", \"7.5\"]\n",
        "floats = [float(num) for num in strings]  # [8.9, 6.0, 8.1, 7.5]\n",
        "g = float(strings)\n",
        "print(g)"
      ],
      "execution_count": null,
      "outputs": [
        {
          "ename": "TypeError",
          "evalue": "ignored",
          "output_type": "error",
          "traceback": [
            "\u001b[0;31m---------------------------------------------------------------------------\u001b[0m",
            "\u001b[0;31mTypeError\u001b[0m                                 Traceback (most recent call last)",
            "\u001b[0;32m<ipython-input-3-0e59024d7a3d>\u001b[0m in \u001b[0;36m<module>\u001b[0;34m()\u001b[0m\n\u001b[1;32m      1\u001b[0m \u001b[0mstrings\u001b[0m \u001b[0;34m=\u001b[0m \u001b[0;34m[\u001b[0m\u001b[0;34m\"8.9\"\u001b[0m\u001b[0;34m,\u001b[0m \u001b[0;34m\"6.0\"\u001b[0m\u001b[0;34m,\u001b[0m \u001b[0;34m\"8.1\"\u001b[0m\u001b[0;34m,\u001b[0m \u001b[0;34m\"7.5\"\u001b[0m\u001b[0;34m]\u001b[0m\u001b[0;34m\u001b[0m\u001b[0;34m\u001b[0m\u001b[0m\n\u001b[1;32m      2\u001b[0m \u001b[0mfloats\u001b[0m \u001b[0;34m=\u001b[0m \u001b[0;34m[\u001b[0m\u001b[0mfloat\u001b[0m\u001b[0;34m(\u001b[0m\u001b[0mnum\u001b[0m\u001b[0;34m)\u001b[0m \u001b[0;32mfor\u001b[0m \u001b[0mnum\u001b[0m \u001b[0;32min\u001b[0m \u001b[0mstrings\u001b[0m\u001b[0;34m]\u001b[0m  \u001b[0;31m# [8.9, 6.0, 8.1, 7.5]\u001b[0m\u001b[0;34m\u001b[0m\u001b[0;34m\u001b[0m\u001b[0m\n\u001b[0;32m----> 3\u001b[0;31m \u001b[0mg\u001b[0m \u001b[0;34m=\u001b[0m \u001b[0mfloat\u001b[0m\u001b[0;34m(\u001b[0m\u001b[0mstrings\u001b[0m\u001b[0;34m)\u001b[0m\u001b[0;34m\u001b[0m\u001b[0;34m\u001b[0m\u001b[0m\n\u001b[0m\u001b[1;32m      4\u001b[0m \u001b[0mprint\u001b[0m\u001b[0;34m(\u001b[0m\u001b[0mg\u001b[0m\u001b[0;34m)\u001b[0m\u001b[0;34m\u001b[0m\u001b[0;34m\u001b[0m\u001b[0m\n",
            "\u001b[0;31mTypeError\u001b[0m: float() argument must be a string or a number, not 'list'"
          ]
        }
      ]
    },
    {
      "cell_type": "code",
      "metadata": {
        "colab": {
          "base_uri": "https://localhost:8080/"
        },
        "id": "atZoJZV_MiyJ",
        "outputId": "9c379a00-6dfa-4c04-cc1a-acb5e75787bb"
      },
      "source": [
        "list_of_strings = [\"36\", \"45\", \"99\"]\n",
        "plus_one = [int(x) + 1 for x in list_of_strings]\n",
        "print(plus_one)"
      ],
      "execution_count": null,
      "outputs": [
        {
          "name": "stdout",
          "output_type": "stream",
          "text": [
            "[37, 46, 100]\n"
          ]
        }
      ]
    },
    {
      "cell_type": "code",
      "metadata": {
        "colab": {
          "base_uri": "https://localhost:8080/"
        },
        "id": "DenWjNZ_Nzrn",
        "outputId": "07547aa5-890b-4c29-c928-eed39226c4c3"
      },
      "source": [
        "# work with a list from this variable\n",
        "numbers = [int(n) for n in input()]\n",
        "\n",
        "# change the next two lines\n",
        "less_than_5 = [x for x in numbers if x < 5]\n",
        "greater_than_5 = [x for x in numbers if x > 5]\n",
        "\n",
        "# printing your results\n",
        "print(less_than_5)\n",
        "print(greater_than_5)"
      ],
      "execution_count": null,
      "outputs": [
        {
          "name": "stdout",
          "output_type": "stream",
          "text": [
            "34567\n",
            "[3, 4]\n",
            "[6, 7]\n"
          ]
        }
      ]
    },
    {
      "cell_type": "code",
      "metadata": {
        "id": "R0BD1PGyOqjY"
      },
      "source": [
        "# the following line reads the list from the input; do not modify it, please\n",
        "my_numbers = [int(x) for x in input().split(\" \")]\n",
        "\n",
        "# work with the variable 'my_numbers'\n",
        "\n",
        "xxx = [x for x in my_numbers if my_numbers % 2 == 0]\n",
        "print(xxx)"
      ],
      "execution_count": null,
      "outputs": []
    },
    {
      "cell_type": "code",
      "metadata": {
        "colab": {
          "base_uri": "https://localhost:8080/"
        },
        "id": "39ftzwJ_11l2",
        "outputId": "fcdedf28-16c2-47e0-cc3c-b7eac9b20e00"
      },
      "source": [
        "import math\n",
        "\n",
        "\n",
        "# your code here\n",
        "def dontcheat(x):\n",
        "  print(\"Don't cheat!\")\n",
        "\n",
        "# don't delete this line, please\n",
        "math.factorial = dontcheat\n",
        "math.factorial(12)\n",
        "print()"
      ],
      "execution_count": null,
      "outputs": [
        {
          "name": "stdout",
          "output_type": "stream",
          "text": [
            "Don't cheat!\n",
            "\n"
          ]
        }
      ]
    },
    {
      "cell_type": "code",
      "metadata": {
        "colab": {
          "base_uri": "https://localhost:8080/"
        },
        "id": "lSoYSsM95q35",
        "outputId": "e50bd5ca-16c6-477e-cdaf-9a39559c1c9e"
      },
      "source": [
        "\n",
        "x = int(input())\n",
        "\n",
        "if x > 0:\n",
        "    print(-abs(x))\n",
        "else:\n",
        "    print(abs(x))"
      ],
      "execution_count": null,
      "outputs": [
        {
          "name": "stdout",
          "output_type": "stream",
          "text": [
            "-21312\n",
            "21312\n"
          ]
        }
      ]
    },
    {
      "cell_type": "code",
      "metadata": {
        "colab": {
          "base_uri": "https://localhost:8080/"
        },
        "id": "oO_Kl1t49iJV",
        "outputId": "ed831737-df6d-4973-8c2c-c288d77e1189"
      },
      "source": [
        "\n",
        "\n",
        "while True:\n",
        "  num = int(input())\n",
        "  if num < 10:\n",
        "    continue\n",
        "  elif num > 100:\n",
        "    break\n",
        "  else:\n",
        "    print(num)\n"
      ],
      "execution_count": null,
      "outputs": [
        {
          "name": "stdout",
          "output_type": "stream",
          "text": [
            "213\n"
          ]
        }
      ]
    },
    {
      "cell_type": "code",
      "metadata": {
        "colab": {
          "base_uri": "https://localhost:8080/"
        },
        "id": "a0_wy_jNNcma",
        "outputId": "954b470c-68a6-4447-843e-75849acdfbdb"
      },
      "source": [
        "# the following line reads the list from the input; do not modify it, please\n",
        "my_numbers = [int(x) for x in input().split(\" \")]\n",
        "\n",
        "# work with the variable 'my_numbers'\n",
        "\n",
        "even_numbers = [x for x in my_numbers if x % 2 == 0]\n",
        "\n",
        "print(even_numbers)"
      ],
      "execution_count": null,
      "outputs": [
        {
          "name": "stdout",
          "output_type": "stream",
          "text": [
            "1 2 31 43 5 22 22 112 34\n",
            "[2, 22, 22, 112, 34]\n"
          ]
        }
      ]
    },
    {
      "cell_type": "code",
      "metadata": {
        "colab": {
          "base_uri": "https://localhost:8080/"
        },
        "id": "nkx_QXAzRiMg",
        "outputId": "aa39cb4c-e52c-434c-912e-841f6b3c4511"
      },
      "source": [
        "words = [\"apple\", \"it\", \"creek\", \"pelican\", \"subsequent\", \"horse\",\n",
        "         \"apothecary\"]\n",
        "lengths_of_words = [len(x) for x in words]\n",
        "print(lengths_of_words)"
      ],
      "execution_count": null,
      "outputs": [
        {
          "name": "stdout",
          "output_type": "stream",
          "text": [
            "[5, 2, 5, 7, 10, 5, 10]\n"
          ]
        }
      ]
    },
    {
      "cell_type": "code",
      "metadata": {
        "colab": {
          "base_uri": "https://localhost:8080/"
        },
        "id": "Yu-013_zXOlh",
        "outputId": "b15e0405-e3fa-4c4e-d343-a992add75c0c"
      },
      "source": [
        "xv = [x for x in range(1,1000) if x % 3 == 0]\n",
        "print(xv)"
      ],
      "execution_count": null,
      "outputs": [
        {
          "name": "stdout",
          "output_type": "stream",
          "text": [
            "[3, 6, 9, 12, 15, 18, 21, 24, 27, 30, 33, 36, 39, 42, 45, 48, 51, 54, 57, 60, 63, 66, 69, 72, 75, 78, 81, 84, 87, 90, 93, 96, 99, 102, 105, 108, 111, 114, 117, 120, 123, 126, 129, 132, 135, 138, 141, 144, 147, 150, 153, 156, 159, 162, 165, 168, 171, 174, 177, 180, 183, 186, 189, 192, 195, 198, 201, 204, 207, 210, 213, 216, 219, 222, 225, 228, 231, 234, 237, 240, 243, 246, 249, 252, 255, 258, 261, 264, 267, 270, 273, 276, 279, 282, 285, 288, 291, 294, 297, 300, 303, 306, 309, 312, 315, 318, 321, 324, 327, 330, 333, 336, 339, 342, 345, 348, 351, 354, 357, 360, 363, 366, 369, 372, 375, 378, 381, 384, 387, 390, 393, 396, 399, 402, 405, 408, 411, 414, 417, 420, 423, 426, 429, 432, 435, 438, 441, 444, 447, 450, 453, 456, 459, 462, 465, 468, 471, 474, 477, 480, 483, 486, 489, 492, 495, 498, 501, 504, 507, 510, 513, 516, 519, 522, 525, 528, 531, 534, 537, 540, 543, 546, 549, 552, 555, 558, 561, 564, 567, 570, 573, 576, 579, 582, 585, 588, 591, 594, 597, 600, 603, 606, 609, 612, 615, 618, 621, 624, 627, 630, 633, 636, 639, 642, 645, 648, 651, 654, 657, 660, 663, 666, 669, 672, 675, 678, 681, 684, 687, 690, 693, 696, 699, 702, 705, 708, 711, 714, 717, 720, 723, 726, 729, 732, 735, 738, 741, 744, 747, 750, 753, 756, 759, 762, 765, 768, 771, 774, 777, 780, 783, 786, 789, 792, 795, 798, 801, 804, 807, 810, 813, 816, 819, 822, 825, 828, 831, 834, 837, 840, 843, 846, 849, 852, 855, 858, 861, 864, 867, 870, 873, 876, 879, 882, 885, 888, 891, 894, 897, 900, 903, 906, 909, 912, 915, 918, 921, 924, 927, 930, 933, 936, 939, 942, 945, 948, 951, 954, 957, 960, 963, 966, 969, 972, 975, 978, 981, 984, 987, 990, 993, 996, 999]\n"
          ]
        }
      ]
    },
    {
      "cell_type": "code",
      "metadata": {
        "colab": {
          "base_uri": "https://localhost:8080/"
        },
        "id": "Tec-G-qgic6U",
        "outputId": "27eddced-de91-441f-c645-ccda676184ec"
      },
      "source": [
        "old_list = [int(num) for num in input().split()]\n",
        "\n",
        "binary_list = [1 if x > 0 else 0 for x in old_list]\n",
        "\n",
        "print(binary_list)\n"
      ],
      "execution_count": null,
      "outputs": [
        {
          "name": "stdout",
          "output_type": "stream",
          "text": [
            "12 -32 0 1 32\n",
            "[1, 0, 0, 1, 1]\n"
          ]
        }
      ]
    },
    {
      "cell_type": "code",
      "metadata": {
        "colab": {
          "base_uri": "https://localhost:8080/"
        },
        "id": "3CEuG2QXqlbk",
        "outputId": "ed441d18-c79a-40ad-e4a9-78032e2b680c"
      },
      "source": [
        "vowels = 'aeiou'\n",
        "\n",
        "vow = [x for x in input() if x in vowels]\n",
        "\n",
        "print(vow)"
      ],
      "execution_count": null,
      "outputs": [
        {
          "name": "stdout",
          "output_type": "stream",
          "text": [
            "invertebrate\n",
            "['i', 'e', 'e', 'a', 'e']\n"
          ]
        }
      ]
    },
    {
      "cell_type": "code",
      "metadata": {
        "colab": {
          "base_uri": "https://localhost:8080/"
        },
        "id": "TaNyvVdi8ndQ",
        "outputId": "3d3a8981-63b5-460f-9102-49a80dd2f1e4"
      },
      "source": [
        "inpoot = input()\n",
        "\n",
        "summa = [int(x) for x in inpoot]\n",
        "print(sum(summa)/len(inpoot))"
      ],
      "execution_count": null,
      "outputs": [
        {
          "name": "stdout",
          "output_type": "stream",
          "text": [
            "1234\n",
            "2.5\n"
          ]
        }
      ]
    },
    {
      "cell_type": "code",
      "metadata": {
        "colab": {
          "base_uri": "https://localhost:8080/"
        },
        "id": "Gkivk_fgNPsj",
        "outputId": "3fc270eb-3ff6-4b01-bcda-703bc93c8651"
      },
      "source": [
        "words = input()\n",
        "check_a = [x if x.startswith(\"a\") else x + \"a\" for x in words  ]"
      ],
      "execution_count": null,
      "outputs": [
        {
          "name": "stdout",
          "output_type": "stream",
          "text": [
            "apple pear banana\n"
          ]
        }
      ]
    },
    {
      "cell_type": "code",
      "metadata": {
        "colab": {
          "base_uri": "https://localhost:8080/"
        },
        "id": "isJYsMIR-h-r",
        "outputId": "a0c5b52c-b180-4393-db85-95277ea70f0f"
      },
      "source": [
        "\n",
        "student_list = []\n",
        "for class_group in school:\n",
        "    for student in class_group:\n",
        "        student_list.append(student)\n",
        "\n",
        "print(student_list)"
      ],
      "execution_count": null,
      "outputs": [
        {
          "name": "stdout",
          "output_type": "stream",
          "text": [
            "hello I am the besst studetn in the world but i really do not know to study\n",
            "['h', 'e', 'l', 'l', 'o', ' ', 'I', ' ', 'a', 'm', ' ', 't', 'h', 'e', ' ', 'b', 'e', 's', 's', 't', ' ', 's', 't', 'u', 'd', 'e', 't', 'n', ' ', 'i', 'n', ' ', 't', 'h', 'e', ' ', 'w', 'o', 'r', 'l', 'd', ' ', 'b', 'u', 't', ' ', 'i', ' ', 'r', 'e', 'a', 'l', 'l', 'y', ' ', 'd', 'o', ' ', 'n', 'o', 't', ' ', 'k', 'n', 'o', 'w', ' ', 't', 'o', ' ', 's', 't', 'u', 'd', 'y']\n"
          ]
        }
      ]
    },
    {
      "cell_type": "code",
      "metadata": {
        "id": "YzLb27A7q--9"
      },
      "source": [
        ""
      ],
      "execution_count": null,
      "outputs": []
    },
    {
      "cell_type": "code",
      "metadata": {
        "id": "5QUorYM3GQGk"
      },
      "source": [
        "f = int(input())\n",
        "winners = []\n",
        "\n",
        "for x in range(f):\n",
        "    a = input().split()\n",
        "    if a[1] == 'win':\n",
        "        winners.append(a[0])\n",
        "\n",
        "print(winners)\n",
        "print(len(winners))"
      ],
      "execution_count": null,
      "outputs": []
    },
    {
      "cell_type": "code",
      "metadata": {
        "colab": {
          "base_uri": "https://localhost:8080/"
        },
        "id": "xBnjlL8oZzLf",
        "outputId": "b5f05af4-f379-4479-9965-acd99fbc77c0"
      },
      "source": [
        "cells = input(\"Enter cells:\")\n",
        "\n",
        "# row_1 = cells[0:3]\n",
        "# row_2 = cells[3:6]\n",
        "# row_3 = cells[6:9]\n",
        "print(\"---------\")\n",
        "print(\"|\",cells[0],cells[1],cells[2],\"|\")\n",
        "print(\"|\",cells[3],cells[4],cells[5],\"|\")\n",
        "print(\"|\",cells[6],cells[7],cells[8],\"|\")\n",
        "print(\"---------\")\n",
        "\n",
        "tic_cells = [x for x in cells]\n",
        "\n",
        "c_x = tic_cells.count('X')\n",
        "c_o = tic_cells.count('O')\n",
        "\n",
        "\n",
        "row=[1,2,3]\n",
        "\n",
        "row[0]=[cells[0],cells[1],cells[2]]\n",
        "row[1]=[cells[3],cells[4],cells[5]]\n",
        "row[2]=[cells[6],cells[7],cells[8]]\n",
        "\n",
        "# WINS \n",
        "if cells[0] == cells[1] == cells[2] and cells[0] != \"_\":\n",
        "  print(cells[0]+\" wins\")\n",
        "\n",
        "elif cells[3] == cells[4] == cells[5] and cells[3] != \"_\":\n",
        "  print(cells[3]+\" wins\")\n",
        "\n",
        "elif cells[6] == cells[7] == cells[8] and cells[6] != \"_\":\n",
        "  print(cells[6]+\" wins\")\n",
        "\n",
        "elif cells[0] == cells[3] == cells[6] and cells[0] != \"_\":\n",
        "  print(cells[0]+\" wins\")\n",
        "\n",
        "elif cells[1] == cells[4] == cells[7] and cells[1] != \"_\":\n",
        "  print(cells[0]+\" wins\")\n",
        "\n",
        "elif cells[2] == cells[5] == cells[8] and cells[2] != \"_\":\n",
        "  print(cells[2]+\" wins\")\n",
        "\n",
        "elif cells[0] == cells[4] == cells[8] and cells[0] != \"_\":\n",
        "  print(cells[0]+\" wins\")\n",
        "\n",
        "elif cells[6] == cells[4] == cells[2] and cells[6] != \"_\":\n",
        "  print(cells[6]+\" wins\")\n",
        "\n",
        "# Game not finished \n",
        "\n",
        "elif abs(c_x - c_o) > 1 or row[0]==row[1] or row[0]==row[2] or row[1]==row[2]:\n",
        "  print(\"Impossible\")\n",
        "\n",
        "# DRAW \n",
        "\n",
        "elif tic_cells.count('_') == 0:\n",
        "  print('Draw')  \n",
        "\n",
        "else:\n",
        "  print(\"Game not finished\")\n",
        "\n",
        "\n"
      ],
      "execution_count": null,
      "outputs": [
        {
          "name": "stdout",
          "output_type": "stream",
          "text": [
            "Enter cells:XXXOOO___\n",
            "---------\n",
            "| X X X |\n",
            "| O O O |\n",
            "| _ _ _ |\n",
            "---------\n",
            "X wins\n"
          ]
        }
      ]
    },
    {
      "cell_type": "code",
      "metadata": {
        "colab": {
          "base_uri": "https://localhost:8080/"
        },
        "id": "Rvjge7_YF3Sg",
        "outputId": "b06f55dd-ce60-41aa-ccf8-c8a29096a160"
      },
      "source": [
        "a=input()\n",
        "insert=list(a)\n",
        "allX = a.count('X')\n",
        "allO = a.count('O')\n",
        "all_ = a.count('_')\n",
        "\n",
        "\n",
        "row=[1,2,3]\n",
        "\n",
        "row[0]=[insert[0],insert[1],insert[2]]\n",
        "row[1]=[insert[3],insert[4],insert[5]]\n",
        "row[2]=[insert[6],insert[7],insert[8]]\n",
        "\n",
        "print(\"Enter cells: \"+a)\n",
        "print(\"---------\")\n",
        "print(\"|\"+' '+insert[0]+' '+insert[1]+' '+insert[2]+' '+'|')\n",
        "print(\"|\"+' '+insert[3]+' '+insert[4]+' '+insert[5]+' '+'|')\n",
        "print(\"|\"+' '+insert[6]+' '+insert[7]+' '+insert[8]+' '+'|')\n",
        "print(\"---------\")\n",
        "\n",
        "if abs(allX - allO) > 1 :\n",
        "    print('Impossible')\n",
        "elif row[0]==row[1] or row[0]==row[2] or row[1]==row[2] :\n",
        "    print('Impossible')\n",
        "\n",
        "elif a[2]==a[4]==a[6] :\n",
        "    print(a[2]+' wins')\n",
        "elif a[0]==a[1]==a[2] :\n",
        "    print(a[0]+' wins')\n",
        "elif a[3]==a[4]==a[5] :\n",
        "    print(a[3]+' wins')\n",
        "elif a[6]==a[7]==a[8] :\n",
        "    print(a[6]+' wins')\n",
        "elif a[0]==a[4]==a[8] :\n",
        "    print(a[0]+' wins')\n",
        "elif a[2] == a[5] == a[8] :\n",
        "    print(a[2] + ' wins')\n",
        "elif a[0] == a[3] == a[6] :\n",
        "    print(a[0] + ' wins')\n",
        "elif a[1] == a[4] == a[7] :\n",
        "    print(a[0] + ' wins')\n",
        "elif all_==0 :\n",
        "    print('Draw')\n",
        "\n",
        "\n",
        "else :\n",
        "    print('Game not finished')"
      ],
      "execution_count": null,
      "outputs": [
        {
          "name": "stdout",
          "output_type": "stream",
          "text": [
            "XXXO_O___\n",
            "Enter cells: XXXO_O___\n",
            "---------\n",
            "| X X X |\n",
            "| O _ O |\n",
            "| _ _ _ |\n",
            "---------\n",
            "X wins\n"
          ]
        }
      ]
    },
    {
      "cell_type": "code",
      "metadata": {
        "colab": {
          "base_uri": "https://localhost:8080/"
        },
        "id": "kbExuac4v8_V",
        "outputId": "0828e43f-8c5f-48bf-d52d-30b2b6d554d6"
      },
      "source": [
        "num = 0\n",
        "ee = 0\n",
        "\n",
        "while True:\n",
        "  digit = int(input())\n",
        "  num += digit\n",
        "  ee += digit * digit\n",
        "  if num == 0:\n",
        "    break\n",
        "  else:\n",
        "    continue\n",
        "\n",
        "print(ee)\n",
        "\n"
      ],
      "execution_count": null,
      "outputs": [
        {
          "name": "stdout",
          "output_type": "stream",
          "text": [
            "4\n",
            "-10\n",
            "6\n",
            "152\n"
          ]
        }
      ]
    },
    {
      "cell_type": "code",
      "metadata": {
        "colab": {
          "base_uri": "https://localhost:8080/"
        },
        "id": "pFOr8Myyq_Xj",
        "outputId": "b06f55dd-ce60-41aa-ccf8-c8a29096a160"
      },
      "source": [
        "a=input()\n",
        "insert=list(a)\n",
        "allX = a.count('X')\n",
        "allO = a.count('O')\n",
        "all_ = a.count('_')\n",
        "\n",
        "\n",
        "row=[1,2,3]\n",
        "\n",
        "row[0]=[insert[0],insert[1],insert[2]]\n",
        "row[1]=[insert[3],insert[4],insert[5]]\n",
        "row[2]=[insert[6],insert[7],insert[8]]\n",
        "\n",
        "print(\"Enter cells: \"+a)\n",
        "print(\"---------\")\n",
        "print(\"|\"+' '+insert[0]+' '+insert[1]+' '+insert[2]+' '+'|')\n",
        "print(\"|\"+' '+insert[3]+' '+insert[4]+' '+insert[5]+' '+'|')\n",
        "print(\"|\"+' '+insert[6]+' '+insert[7]+' '+insert[8]+' '+'|')\n",
        "print(\"---------\")\n",
        "\n",
        "if abs(allX - allO) > 1 :\n",
        "    print('Impossible')\n",
        "elif row[0]==row[1] or row[0]==row[2] or row[1]==row[2] :\n",
        "    print('Impossible')\n",
        "\n",
        "elif a[2]==a[4]==a[6] :\n",
        "    print(a[2]+' wins')\n",
        "elif a[0]==a[1]==a[2] :\n",
        "    print(a[0]+' wins')\n",
        "elif a[3]==a[4]==a[5] :\n",
        "    print(a[3]+' wins')\n",
        "elif a[6]==a[7]==a[8] :\n",
        "    print(a[6]+' wins')\n",
        "elif a[0]==a[4]==a[8] :\n",
        "    print(a[0]+' wins')\n",
        "elif a[2] == a[5] == a[8] :\n",
        "    print(a[2] + ' wins')\n",
        "elif a[0] == a[3] == a[6] :\n",
        "    print(a[0] + ' wins')\n",
        "elif a[1] == a[4] == a[7] :\n",
        "    print(a[0] + ' wins')\n",
        "elif all_==0 :\n",
        "    print('Draw')\n",
        "\n",
        "\n",
        "else :\n",
        "    print('Game not finished')"
      ],
      "execution_count": null,
      "outputs": [
        {
          "name": "stdout",
          "output_type": "stream",
          "text": [
            "XXXO_O___\n",
            "Enter cells: XXXO_O___\n",
            "---------\n",
            "| X X X |\n",
            "| O _ O |\n",
            "| _ _ _ |\n",
            "---------\n",
            "X wins\n"
          ]
        }
      ]
    },
    {
      "cell_type": "code",
      "metadata": {
        "id": "ADirrIF7rDKE"
      },
      "source": [
        ""
      ],
      "execution_count": null,
      "outputs": []
    },
    {
      "cell_type": "code",
      "metadata": {
        "colab": {
          "base_uri": "https://localhost:8080/",
          "height": 235
        },
        "id": "pGvIzlY8rDvx",
        "outputId": "2c95711a-1d8b-49d9-8f75-926b25a61930"
      },
      "source": [
        "a=input(\"Enter cells: \")\n",
        "i=list(a)\n",
        "\n",
        "# row=[1,2,3]\n",
        "\n",
        "# row[0]=[i[0],i[1],i[2]]\n",
        "# row[1]=[i[3],i[4],i[5]]\n",
        "# row[2]=[i[6],i[7],i[8]]\n",
        "\n",
        "\n",
        "# print(\"---------\")\n",
        "# print(\"|\"+' '+i[0]+' '+i[1]+' '+i[2]+' '+'|')\n",
        "# print(\"|\"+' '+i[3]+' '+i[4]+' '+i[5]+' '+'|')\n",
        "# print(\"|\"+' '+i[6]+' '+i[7]+' '+i[8]+' '+'|')\n",
        "# print(\"---------\")\n",
        "\n",
        "a=input(\"Enter the coordinates: \").split()\n",
        "\n",
        "# ----------- \n",
        "d = [int(x) for x in a]\n",
        "row = d[0]\n",
        "column = d[1]\n",
        "index = (((row - 1) * 3) + (column + 2)) - 3\n",
        "# -----------\n",
        "\n",
        "find_ind = [w for w in a]\n",
        "\n",
        "print(find_ind[index])"
      ],
      "execution_count": null,
      "outputs": [
        {
          "name": "stdout",
          "output_type": "stream",
          "text": [
            "Enter cells: XXXOOOXOX\n",
            "Enter the coordinates: 3 1\n"
          ]
        },
        {
          "ename": "IndexError",
          "evalue": "ignored",
          "output_type": "error",
          "traceback": [
            "\u001b[0;31m---------------------------------------------------------------------------\u001b[0m",
            "\u001b[0;31mIndexError\u001b[0m                                Traceback (most recent call last)",
            "\u001b[0;32m<ipython-input-16-d52b168336af>\u001b[0m in \u001b[0;36m<module>\u001b[0;34m()\u001b[0m\n\u001b[1;32m     26\u001b[0m \u001b[0mfind_ind\u001b[0m \u001b[0;34m=\u001b[0m \u001b[0;34m[\u001b[0m\u001b[0mw\u001b[0m \u001b[0;32mfor\u001b[0m \u001b[0mw\u001b[0m \u001b[0;32min\u001b[0m \u001b[0ma\u001b[0m\u001b[0;34m]\u001b[0m\u001b[0;34m\u001b[0m\u001b[0;34m\u001b[0m\u001b[0m\n\u001b[1;32m     27\u001b[0m \u001b[0;34m\u001b[0m\u001b[0m\n\u001b[0;32m---> 28\u001b[0;31m \u001b[0mprint\u001b[0m\u001b[0;34m(\u001b[0m\u001b[0mfind_ind\u001b[0m\u001b[0;34m[\u001b[0m\u001b[0mindex\u001b[0m\u001b[0;34m]\u001b[0m\u001b[0;34m)\u001b[0m\u001b[0;34m\u001b[0m\u001b[0;34m\u001b[0m\u001b[0m\n\u001b[0m",
            "\u001b[0;31mIndexError\u001b[0m: list index out of range"
          ]
        }
      ]
    },
    {
      "cell_type": "code",
      "metadata": {
        "colab": {
          "background_save": true,
          "base_uri": "https://localhost:8080/"
        },
        "id": "_z4H-TQTMfa2",
        "outputId": "7bbc6597-9dbf-4383-b63d-14f0e7d4f00a"
      },
      "source": [
        "print(\"\"\"---------\n",
        "|       |\n",
        "|       |\n",
        "|       |\n",
        "---------\"\"\")\n",
        "#input_str = list(input('Enter cells: '))\n",
        "\n",
        "# field = [input_str[:3], input_str[3:6], input_str[6:]]\n",
        "\n",
        "# print('---------')\n",
        "# print(f'| {\" \".join(field[0])} |')\n",
        "# print(f'| {\" \".join(field[1])} |')\n",
        "# print(f'| {\" \".join(field[2])} |')\n",
        "# print('---------')\n",
        "\n",
        "\n",
        "def check():\n",
        "    check.x, check.y = input(\"Enter the coordinates:\").split()\n",
        "    is_number = check.x.isnumeric() and check.y.isnumeric()\n",
        "\n",
        "    if not is_number:\n",
        "        print('You should enter numbers!')\n",
        "        check()\n",
        "    is1to4 = (int(check.x) in range(1, 4)) and (int(check.y) in range(1, 4))\n",
        "    if not is1to4:\n",
        "        print('Coordinates should be from 1 to 3!')\n",
        "        check()\n",
        "\n",
        "    if field[int(check.x) - 1][int(check.y) - 1] != \"_\":\n",
        "        print('This cell is occupied! Choose another one!')\n",
        "        check()\n",
        "\n",
        "\n",
        "check()\n",
        "\n",
        "field[int(check.x) - 1][int(check.y) - 1] = 'X'\n",
        "print('---------')\n",
        "print(f'| {\" \".join(field[0])} |')\n",
        "print(f'| {\" \".join(field[1])} |')\n",
        "print(f'| {\" \".join(field[2])} |')\n",
        "print('---------')\n"
      ],
      "execution_count": null,
      "outputs": [
        {
          "name": "stdout",
          "output_type": "stream",
          "text": [
            "---------\n",
            "|       |\n",
            "|       |\n",
            "|       |\n",
            "---------\n",
            "This cell is occupied! Choose another one!\n"
          ]
        }
      ]
    },
    {
      "cell_type": "code",
      "metadata": {
        "id": "tW0NT8ioDAY7",
        "colab": {
          "base_uri": "https://localhost:8080/"
        },
        "outputId": "6e2c9dea-6239-4efe-a358-3230091efd59"
      },
      "source": [
        "import time\n",
        "\n",
        "help(time.asctime)"
      ],
      "execution_count": null,
      "outputs": [
        {
          "output_type": "stream",
          "name": "stdout",
          "text": [
            "Help on built-in function asctime in module time:\n",
            "\n",
            "asctime(...)\n",
            "    asctime([tuple]) -> string\n",
            "    \n",
            "    Convert a time tuple to a string, e.g. 'Sat Jun 06 16:26:11 1998'.\n",
            "    When the time tuple is not present, current time as returned by localtime()\n",
            "    is used.\n",
            "\n"
          ]
        }
      ]
    },
    {
      "cell_type": "code",
      "metadata": {
        "colab": {
          "base_uri": "https://localhost:8080/"
        },
        "id": "Ny1_j3yTRgS9",
        "outputId": "aedcff79-b123-4485-dea9-ccb538106de5"
      },
      "source": [
        "import string\n",
        "\n",
        "# first = input()\n",
        "# second = input()\n",
        "\n",
        "\n",
        "\n",
        "# print(str.capitalize(first))\n",
        "# print(string.capwords(second))\n",
        "\n",
        "a = ['abc']\n",
        "b = ['abc']\n",
        "\n",
        "print(id(a))\n",
        "print(id(b))\n"
      ],
      "execution_count": null,
      "outputs": [
        {
          "output_type": "stream",
          "name": "stdout",
          "text": [
            "140303907984480\n",
            "140303907414816\n"
          ]
        }
      ]
    },
    {
      "cell_type": "code",
      "metadata": {
        "colab": {
          "base_uri": "https://localhost:8080/"
        },
        "id": "NUT2r47YWpj-",
        "outputId": "deb4db78-6c45-44b1-914b-fbba8e4f9a11"
      },
      "source": [
        "import string\n",
        "\n",
        "username = str.capitalize(input())\n",
        "print(f\"Dear {username}! It was really nice to meet you. Hopefully, you have a nice day! See you soon, {username}!\")\n",
        "\n",
        "# put your code here"
      ],
      "execution_count": null,
      "outputs": [
        {
          "output_type": "stream",
          "name": "stdout",
          "text": [
            "summer\n",
            "Dear Summer! It was really nice to meet you. Hopefully, you have a nice day! See you soon, Summer!\n"
          ]
        }
      ]
    },
    {
      "cell_type": "code",
      "metadata": {
        "colab": {
          "base_uri": "https://localhost:8080/"
        },
        "id": "waXHLgNIK0Nn",
        "outputId": "21bb7d5e-7b2d-435b-a863-849f6cf071d6"
      },
      "source": [
        "path = 'C:\\\\Users\\\\Public\\\\Desktop\\\\Temporary\\\\Newsletters'.lower()\n",
        "print(path)"
      ],
      "execution_count": null,
      "outputs": [
        {
          "output_type": "stream",
          "name": "stdout",
          "text": [
            "c:\\users\\public\\desktop\\temporary\\newsletters\n"
          ]
        }
      ]
    },
    {
      "cell_type": "code",
      "metadata": {
        "colab": {
          "base_uri": "https://localhost:8080/"
        },
        "id": "Bml2fokaMQSO",
        "outputId": "f52e674d-cf89-4d49-c1b7-a4e37f951919"
      },
      "source": [
        "\n",
        "name = input()\n",
        "adjective = input()\n",
        "\n",
        "print(f\"Hi, {name}! You look {adjective} today! You're doing great!\")\n",
        "\n",
        "\n",
        "\n"
      ],
      "execution_count": null,
      "outputs": [
        {
          "output_type": "stream",
          "name": "stdout",
          "text": [
            "Mary\n",
            "awesome\n",
            "Hi, Mary! You look awesome today! You're doing great!\n"
          ]
        }
      ]
    },
    {
      "cell_type": "code",
      "source": [
        "def format_address(address_string):\n",
        "\n",
        "  # Declare variables\n",
        "\n",
        "  house = []\n",
        "\n",
        "  street_number = []\n",
        "\n",
        "  # Separate the address string into parts\n",
        "  count = 0\n",
        "  # Traverse through the address parts\n",
        "  for x in address_string:\n",
        "    if count == 0:\n",
        "      house.append(x)\n",
        "      count=+1\n",
        "    else:\n",
        "      street_number.append(x)\n",
        "\n",
        "    # Determine if the address part is the\n",
        "    # house number or part of the street name\n",
        "\n",
        "  # Does anything else need to be done \n",
        "  # before returning the result?\n",
        "  \n",
        "  # Return the formatted string  \n",
        "  return f\"house number {house} on street named {street_number}\"\n",
        "\n",
        "print(format_address(\"123 Main Street\"))\n",
        "# Should print: \"house number 123 on street named Main Street\"\n",
        "\n",
        "print(format_address(\"1001 1st Ave\"))\n",
        "# Should print: \"house number 1001 on street named 1st Ave\"\n",
        "\n",
        "print(format_address(\"55 North Center Drive\"))\n",
        "# Should print \"house number 55 on street named North Center Drive\""
      ],
      "metadata": {
        "colab": {
          "base_uri": "https://localhost:8080/"
        },
        "id": "SXqfkOL73ZVP",
        "outputId": "a2e65cec-8b00-444e-a4e7-1e163f6f505c"
      },
      "execution_count": null,
      "outputs": [
        {
          "output_type": "stream",
          "name": "stdout",
          "text": [
            "house number ['1'] on street named ['2', '3', ' ', 'M', 'a', 'i', 'n', ' ', 'S', 't', 'r', 'e', 'e', 't']\n",
            "house number ['1'] on street named ['0', '0', '1', ' ', '1', 's', 't', ' ', 'A', 'v', 'e']\n",
            "house number ['5'] on street named ['5', ' ', 'N', 'o', 'r', 't', 'h', ' ', 'C', 'e', 'n', 't', 'e', 'r', ' ', 'D', 'r', 'i', 'v', 'e']\n"
          ]
        }
      ]
    }
  ]
}